{
  "nbformat": 4,
  "nbformat_minor": 0,
  "metadata": {
    "kernelspec": {
      "display_name": "Python 3",
      "language": "python",
      "name": "python3"
    },
    "language_info": {
      "codemirror_mode": {
        "name": "ipython",
        "version": 3
      },
      "file_extension": ".py",
      "mimetype": "text/x-python",
      "name": "python",
      "nbconvert_exporter": "python",
      "pygments_lexer": "ipython3",
      "version": "3.8.5"
    },
    "colab": {
      "name": "Project-Unsupervised Learning.ipynb",
      "provenance": [],
      "collapsed_sections": [],
      "toc_visible": true
    }
  },
  "cells": [
    {
      "cell_type": "code",
      "metadata": {
        "id": "qx0QISJYGjTo"
      },
      "source": [
        "# To enable plotting graphs in Jupyter notebook\n",
        "%matplotlib inline "
      ],
      "execution_count": null,
      "outputs": []
    },
    {
      "cell_type": "code",
      "metadata": {
        "id": "g039DP1UGjTp"
      },
      "source": [
        "# Numerical libraries\n",
        "import numpy as np   \n",
        "\n",
        "from sklearn.model_selection import train_test_split\n",
        "\n",
        "from sklearn.cluster import KMeans\n",
        "\n",
        "# to handle data in form of rows and columns \n",
        "import pandas as pd    \n",
        "\n",
        "# importing ploting libraries\n",
        "import matplotlib.pyplot as plt   \n",
        "\n",
        "#importing seaborn for statistical plots\n",
        "import seaborn as sns\n",
        "\n",
        "from sklearn import metrics\n",
        "\n",
        "import pandas as pd"
      ],
      "execution_count": null,
      "outputs": []
    },
    {
      "cell_type": "code",
      "metadata": {
        "id": "auyceqg-GjTq"
      },
      "source": [
        "# reading the excel file into pandas dataframe\n",
        "creditcard_data = pd.read_excel(\"Credit Card Customer Data.xlsx\") "
      ],
      "execution_count": null,
      "outputs": []
    },
    {
      "cell_type": "code",
      "metadata": {
        "id": "YjznMpTJGjTr",
        "colab": {
          "base_uri": "https://localhost:8080/",
          "height": 385
        },
        "outputId": "2586002c-68e0-4e88-fcbf-c58cc6cc6d8c"
      },
      "source": [
        "creditcard_data.head(10)"
      ],
      "execution_count": null,
      "outputs": [
        {
          "output_type": "execute_result",
          "data": {
            "text/html": [
              "<div>\n",
              "<style scoped>\n",
              "    .dataframe tbody tr th:only-of-type {\n",
              "        vertical-align: middle;\n",
              "    }\n",
              "\n",
              "    .dataframe tbody tr th {\n",
              "        vertical-align: top;\n",
              "    }\n",
              "\n",
              "    .dataframe thead th {\n",
              "        text-align: right;\n",
              "    }\n",
              "</style>\n",
              "<table border=\"1\" class=\"dataframe\">\n",
              "  <thead>\n",
              "    <tr style=\"text-align: right;\">\n",
              "      <th></th>\n",
              "      <th>Sl_No</th>\n",
              "      <th>Customer Key</th>\n",
              "      <th>Avg_Credit_Limit</th>\n",
              "      <th>Total_Credit_Cards</th>\n",
              "      <th>Total_visits_bank</th>\n",
              "      <th>Total_visits_online</th>\n",
              "      <th>Total_calls_made</th>\n",
              "    </tr>\n",
              "  </thead>\n",
              "  <tbody>\n",
              "    <tr>\n",
              "      <th>0</th>\n",
              "      <td>1</td>\n",
              "      <td>87073</td>\n",
              "      <td>100000</td>\n",
              "      <td>2</td>\n",
              "      <td>1</td>\n",
              "      <td>1</td>\n",
              "      <td>0</td>\n",
              "    </tr>\n",
              "    <tr>\n",
              "      <th>1</th>\n",
              "      <td>2</td>\n",
              "      <td>38414</td>\n",
              "      <td>50000</td>\n",
              "      <td>3</td>\n",
              "      <td>0</td>\n",
              "      <td>10</td>\n",
              "      <td>9</td>\n",
              "    </tr>\n",
              "    <tr>\n",
              "      <th>2</th>\n",
              "      <td>3</td>\n",
              "      <td>17341</td>\n",
              "      <td>50000</td>\n",
              "      <td>7</td>\n",
              "      <td>1</td>\n",
              "      <td>3</td>\n",
              "      <td>4</td>\n",
              "    </tr>\n",
              "    <tr>\n",
              "      <th>3</th>\n",
              "      <td>4</td>\n",
              "      <td>40496</td>\n",
              "      <td>30000</td>\n",
              "      <td>5</td>\n",
              "      <td>1</td>\n",
              "      <td>1</td>\n",
              "      <td>4</td>\n",
              "    </tr>\n",
              "    <tr>\n",
              "      <th>4</th>\n",
              "      <td>5</td>\n",
              "      <td>47437</td>\n",
              "      <td>100000</td>\n",
              "      <td>6</td>\n",
              "      <td>0</td>\n",
              "      <td>12</td>\n",
              "      <td>3</td>\n",
              "    </tr>\n",
              "    <tr>\n",
              "      <th>5</th>\n",
              "      <td>6</td>\n",
              "      <td>58634</td>\n",
              "      <td>20000</td>\n",
              "      <td>3</td>\n",
              "      <td>0</td>\n",
              "      <td>1</td>\n",
              "      <td>8</td>\n",
              "    </tr>\n",
              "    <tr>\n",
              "      <th>6</th>\n",
              "      <td>7</td>\n",
              "      <td>48370</td>\n",
              "      <td>100000</td>\n",
              "      <td>5</td>\n",
              "      <td>0</td>\n",
              "      <td>11</td>\n",
              "      <td>2</td>\n",
              "    </tr>\n",
              "    <tr>\n",
              "      <th>7</th>\n",
              "      <td>8</td>\n",
              "      <td>37376</td>\n",
              "      <td>15000</td>\n",
              "      <td>3</td>\n",
              "      <td>0</td>\n",
              "      <td>1</td>\n",
              "      <td>1</td>\n",
              "    </tr>\n",
              "    <tr>\n",
              "      <th>8</th>\n",
              "      <td>9</td>\n",
              "      <td>82490</td>\n",
              "      <td>5000</td>\n",
              "      <td>2</td>\n",
              "      <td>0</td>\n",
              "      <td>2</td>\n",
              "      <td>2</td>\n",
              "    </tr>\n",
              "    <tr>\n",
              "      <th>9</th>\n",
              "      <td>10</td>\n",
              "      <td>44770</td>\n",
              "      <td>3000</td>\n",
              "      <td>4</td>\n",
              "      <td>0</td>\n",
              "      <td>1</td>\n",
              "      <td>7</td>\n",
              "    </tr>\n",
              "  </tbody>\n",
              "</table>\n",
              "</div>"
            ],
            "text/plain": [
              "   Sl_No  Customer Key  ...  Total_visits_online  Total_calls_made\n",
              "0      1         87073  ...                    1                 0\n",
              "1      2         38414  ...                   10                 9\n",
              "2      3         17341  ...                    3                 4\n",
              "3      4         40496  ...                    1                 4\n",
              "4      5         47437  ...                   12                 3\n",
              "5      6         58634  ...                    1                 8\n",
              "6      7         48370  ...                   11                 2\n",
              "7      8         37376  ...                    1                 1\n",
              "8      9         82490  ...                    2                 2\n",
              "9     10         44770  ...                    1                 7\n",
              "\n",
              "[10 rows x 7 columns]"
            ]
          },
          "metadata": {
            "tags": []
          },
          "execution_count": 20
        }
      ]
    },
    {
      "cell_type": "code",
      "metadata": {
        "id": "xJ2Ix374GjTx"
      },
      "source": [
        "##Remove Sl No and Customer Key since it is redundant\n",
        "creditcard_data.drop({'Sl_No','Customer Key'}, axis=1, inplace=True)"
      ],
      "execution_count": null,
      "outputs": []
    },
    {
      "cell_type": "code",
      "metadata": {
        "id": "cdq5PfORGjTx",
        "colab": {
          "base_uri": "https://localhost:8080/",
          "height": 348
        },
        "outputId": "e73441c1-ef90-407d-a93f-f9d39f7012c6"
      },
      "source": [
        "creditcard_data.head(10)"
      ],
      "execution_count": null,
      "outputs": [
        {
          "output_type": "execute_result",
          "data": {
            "text/html": [
              "<div>\n",
              "<style scoped>\n",
              "    .dataframe tbody tr th:only-of-type {\n",
              "        vertical-align: middle;\n",
              "    }\n",
              "\n",
              "    .dataframe tbody tr th {\n",
              "        vertical-align: top;\n",
              "    }\n",
              "\n",
              "    .dataframe thead th {\n",
              "        text-align: right;\n",
              "    }\n",
              "</style>\n",
              "<table border=\"1\" class=\"dataframe\">\n",
              "  <thead>\n",
              "    <tr style=\"text-align: right;\">\n",
              "      <th></th>\n",
              "      <th>Avg_Credit_Limit</th>\n",
              "      <th>Total_Credit_Cards</th>\n",
              "      <th>Total_visits_bank</th>\n",
              "      <th>Total_visits_online</th>\n",
              "      <th>Total_calls_made</th>\n",
              "    </tr>\n",
              "  </thead>\n",
              "  <tbody>\n",
              "    <tr>\n",
              "      <th>0</th>\n",
              "      <td>100000</td>\n",
              "      <td>2</td>\n",
              "      <td>1</td>\n",
              "      <td>1</td>\n",
              "      <td>0</td>\n",
              "    </tr>\n",
              "    <tr>\n",
              "      <th>1</th>\n",
              "      <td>50000</td>\n",
              "      <td>3</td>\n",
              "      <td>0</td>\n",
              "      <td>10</td>\n",
              "      <td>9</td>\n",
              "    </tr>\n",
              "    <tr>\n",
              "      <th>2</th>\n",
              "      <td>50000</td>\n",
              "      <td>7</td>\n",
              "      <td>1</td>\n",
              "      <td>3</td>\n",
              "      <td>4</td>\n",
              "    </tr>\n",
              "    <tr>\n",
              "      <th>3</th>\n",
              "      <td>30000</td>\n",
              "      <td>5</td>\n",
              "      <td>1</td>\n",
              "      <td>1</td>\n",
              "      <td>4</td>\n",
              "    </tr>\n",
              "    <tr>\n",
              "      <th>4</th>\n",
              "      <td>100000</td>\n",
              "      <td>6</td>\n",
              "      <td>0</td>\n",
              "      <td>12</td>\n",
              "      <td>3</td>\n",
              "    </tr>\n",
              "    <tr>\n",
              "      <th>5</th>\n",
              "      <td>20000</td>\n",
              "      <td>3</td>\n",
              "      <td>0</td>\n",
              "      <td>1</td>\n",
              "      <td>8</td>\n",
              "    </tr>\n",
              "    <tr>\n",
              "      <th>6</th>\n",
              "      <td>100000</td>\n",
              "      <td>5</td>\n",
              "      <td>0</td>\n",
              "      <td>11</td>\n",
              "      <td>2</td>\n",
              "    </tr>\n",
              "    <tr>\n",
              "      <th>7</th>\n",
              "      <td>15000</td>\n",
              "      <td>3</td>\n",
              "      <td>0</td>\n",
              "      <td>1</td>\n",
              "      <td>1</td>\n",
              "    </tr>\n",
              "    <tr>\n",
              "      <th>8</th>\n",
              "      <td>5000</td>\n",
              "      <td>2</td>\n",
              "      <td>0</td>\n",
              "      <td>2</td>\n",
              "      <td>2</td>\n",
              "    </tr>\n",
              "    <tr>\n",
              "      <th>9</th>\n",
              "      <td>3000</td>\n",
              "      <td>4</td>\n",
              "      <td>0</td>\n",
              "      <td>1</td>\n",
              "      <td>7</td>\n",
              "    </tr>\n",
              "  </tbody>\n",
              "</table>\n",
              "</div>"
            ],
            "text/plain": [
              "   Avg_Credit_Limit  Total_Credit_Cards  ...  Total_visits_online  Total_calls_made\n",
              "0            100000                   2  ...                    1                 0\n",
              "1             50000                   3  ...                   10                 9\n",
              "2             50000                   7  ...                    3                 4\n",
              "3             30000                   5  ...                    1                 4\n",
              "4            100000                   6  ...                   12                 3\n",
              "5             20000                   3  ...                    1                 8\n",
              "6            100000                   5  ...                   11                 2\n",
              "7             15000                   3  ...                    1                 1\n",
              "8              5000                   2  ...                    2                 2\n",
              "9              3000                   4  ...                    1                 7\n",
              "\n",
              "[10 rows x 5 columns]"
            ]
          },
          "metadata": {
            "tags": []
          },
          "execution_count": 22
        }
      ]
    },
    {
      "cell_type": "markdown",
      "metadata": {
        "id": "FMC5HQGoGjTx"
      },
      "source": [
        "# Perform univariate analysis on the data to better understand the variables at your disposal and to get an idea about the no of clusters. Perform EDA, create visualizations to explore data. "
      ]
    },
    {
      "cell_type": "code",
      "metadata": {
        "id": "0Txbo104GjTx",
        "colab": {
          "base_uri": "https://localhost:8080/"
        },
        "outputId": "e54536b0-4387-41e5-ec40-0458045e4802"
      },
      "source": [
        "creditcard_data.info()"
      ],
      "execution_count": null,
      "outputs": [
        {
          "output_type": "stream",
          "text": [
            "<class 'pandas.core.frame.DataFrame'>\n",
            "RangeIndex: 660 entries, 0 to 659\n",
            "Data columns (total 5 columns):\n",
            " #   Column               Non-Null Count  Dtype\n",
            "---  ------               --------------  -----\n",
            " 0   Avg_Credit_Limit     660 non-null    int64\n",
            " 1   Total_Credit_Cards   660 non-null    int64\n",
            " 2   Total_visits_bank    660 non-null    int64\n",
            " 3   Total_visits_online  660 non-null    int64\n",
            " 4   Total_calls_made     660 non-null    int64\n",
            "dtypes: int64(5)\n",
            "memory usage: 25.9 KB\n"
          ],
          "name": "stdout"
        }
      ]
    },
    {
      "cell_type": "markdown",
      "metadata": {
        "id": "80zt4nlmmroQ"
      },
      "source": [
        "* Data above shows that their are no null or missing values for any columns."
      ]
    },
    {
      "cell_type": "code",
      "metadata": {
        "id": "zlsj46iXGjTy",
        "colab": {
          "base_uri": "https://localhost:8080/",
          "height": 198
        },
        "outputId": "d31525bc-470c-4f98-b093-0c8d7430340b"
      },
      "source": [
        "creditcard_data.describe().transpose()"
      ],
      "execution_count": null,
      "outputs": [
        {
          "output_type": "execute_result",
          "data": {
            "text/html": [
              "<div>\n",
              "<style scoped>\n",
              "    .dataframe tbody tr th:only-of-type {\n",
              "        vertical-align: middle;\n",
              "    }\n",
              "\n",
              "    .dataframe tbody tr th {\n",
              "        vertical-align: top;\n",
              "    }\n",
              "\n",
              "    .dataframe thead th {\n",
              "        text-align: right;\n",
              "    }\n",
              "</style>\n",
              "<table border=\"1\" class=\"dataframe\">\n",
              "  <thead>\n",
              "    <tr style=\"text-align: right;\">\n",
              "      <th></th>\n",
              "      <th>count</th>\n",
              "      <th>mean</th>\n",
              "      <th>std</th>\n",
              "      <th>min</th>\n",
              "      <th>25%</th>\n",
              "      <th>50%</th>\n",
              "      <th>75%</th>\n",
              "      <th>max</th>\n",
              "    </tr>\n",
              "  </thead>\n",
              "  <tbody>\n",
              "    <tr>\n",
              "      <th>Avg_Credit_Limit</th>\n",
              "      <td>660.0</td>\n",
              "      <td>34574.242424</td>\n",
              "      <td>37625.487804</td>\n",
              "      <td>3000.0</td>\n",
              "      <td>10000.0</td>\n",
              "      <td>18000.0</td>\n",
              "      <td>48000.0</td>\n",
              "      <td>200000.0</td>\n",
              "    </tr>\n",
              "    <tr>\n",
              "      <th>Total_Credit_Cards</th>\n",
              "      <td>660.0</td>\n",
              "      <td>4.706061</td>\n",
              "      <td>2.167835</td>\n",
              "      <td>1.0</td>\n",
              "      <td>3.0</td>\n",
              "      <td>5.0</td>\n",
              "      <td>6.0</td>\n",
              "      <td>10.0</td>\n",
              "    </tr>\n",
              "    <tr>\n",
              "      <th>Total_visits_bank</th>\n",
              "      <td>660.0</td>\n",
              "      <td>2.403030</td>\n",
              "      <td>1.631813</td>\n",
              "      <td>0.0</td>\n",
              "      <td>1.0</td>\n",
              "      <td>2.0</td>\n",
              "      <td>4.0</td>\n",
              "      <td>5.0</td>\n",
              "    </tr>\n",
              "    <tr>\n",
              "      <th>Total_visits_online</th>\n",
              "      <td>660.0</td>\n",
              "      <td>2.606061</td>\n",
              "      <td>2.935724</td>\n",
              "      <td>0.0</td>\n",
              "      <td>1.0</td>\n",
              "      <td>2.0</td>\n",
              "      <td>4.0</td>\n",
              "      <td>15.0</td>\n",
              "    </tr>\n",
              "    <tr>\n",
              "      <th>Total_calls_made</th>\n",
              "      <td>660.0</td>\n",
              "      <td>3.583333</td>\n",
              "      <td>2.865317</td>\n",
              "      <td>0.0</td>\n",
              "      <td>1.0</td>\n",
              "      <td>3.0</td>\n",
              "      <td>5.0</td>\n",
              "      <td>10.0</td>\n",
              "    </tr>\n",
              "  </tbody>\n",
              "</table>\n",
              "</div>"
            ],
            "text/plain": [
              "                     count          mean  ...      75%       max\n",
              "Avg_Credit_Limit     660.0  34574.242424  ...  48000.0  200000.0\n",
              "Total_Credit_Cards   660.0      4.706061  ...      6.0      10.0\n",
              "Total_visits_bank    660.0      2.403030  ...      4.0       5.0\n",
              "Total_visits_online  660.0      2.606061  ...      4.0      15.0\n",
              "Total_calls_made     660.0      3.583333  ...      5.0      10.0\n",
              "\n",
              "[5 rows x 8 columns]"
            ]
          },
          "metadata": {
            "tags": []
          },
          "execution_count": 24
        }
      ]
    },
    {
      "cell_type": "markdown",
      "metadata": {
        "id": "jxnrvlvj_tHI"
      },
      "source": [
        "###Univariate Analysis"
      ]
    },
    {
      "cell_type": "markdown",
      "metadata": {
        "id": "6DDl7iZ1HEfj"
      },
      "source": [
        "###Printing Total number of Outliers for each attribute"
      ]
    },
    {
      "cell_type": "code",
      "metadata": {
        "colab": {
          "base_uri": "https://localhost:8080/"
        },
        "id": "6nxT6swBHLNl",
        "outputId": "82799ff5-3d78-4361-e1a3-9b794a39f68e"
      },
      "source": [
        "Q1 = creditcard_data.quantile(0.25)\n",
        "Q3 = creditcard_data.quantile(0.75)\n",
        "IQR = Q3 - Q1\n",
        "\n",
        "((creditcard_data < (Q1 - 1.5 * IQR)) | (creditcard_data > (Q3 + 1.5 * IQR))).sum()"
      ],
      "execution_count": null,
      "outputs": [
        {
          "output_type": "execute_result",
          "data": {
            "text/plain": [
              "Avg_Credit_Limit       39\n",
              "Total_Credit_Cards      0\n",
              "Total_visits_bank       0\n",
              "Total_visits_online    37\n",
              "Total_calls_made        0\n",
              "dtype: int64"
            ]
          },
          "metadata": {
            "tags": []
          },
          "execution_count": 25
        }
      ]
    },
    {
      "cell_type": "code",
      "metadata": {
        "colab": {
          "base_uri": "https://localhost:8080/",
          "height": 1000
        },
        "id": "Uht0Br8OnI3S",
        "outputId": "13221fd2-dae9-4b69-cf6f-a1e2e0d28d1c"
      },
      "source": [
        "import seaborn as sns\n",
        "\n",
        "for i in creditcard_data.columns:\n",
        "    sns.distplot(creditcard_data[i],hist=False,)\n",
        "    plt.show()"
      ],
      "execution_count": null,
      "outputs": [
        {
          "output_type": "stream",
          "text": [
            "/usr/local/lib/python3.6/dist-packages/seaborn/distributions.py:2551: FutureWarning: `distplot` is a deprecated function and will be removed in a future version. Please adapt your code to use either `displot` (a figure-level function with similar flexibility) or `kdeplot` (an axes-level function for kernel density plots).\n",
            "  warnings.warn(msg, FutureWarning)\n"
          ],
          "name": "stderr"
        },
        {
          "output_type": "display_data",
          "data": {
            "image/png": "[encoded data removed]",
            "text/plain": [
              "<Figure size 432x288 with 1 Axes>"
            ]
          },
          "metadata": {
            "tags": [],
            "needs_background": "light"
          }
        },
        {
          "output_type": "stream",
          "text": [
            "/usr/local/lib/python3.6/dist-packages/seaborn/distributions.py:2551: FutureWarning: `distplot` is a deprecated function and will be removed in a future version. Please adapt your code to use either `displot` (a figure-level function with similar flexibility) or `kdeplot` (an axes-level function for kernel density plots).\n",
            "  warnings.warn(msg, FutureWarning)\n"
          ],
          "name": "stderr"
        },
        {
          "output_type": "display_data",
          "data": {
            "image/png": "[encoded data removed]",
            "text/plain": [
              "<Figure size 432x288 with 1 Axes>"
            ]
          },
          "metadata": {
            "tags": [],
            "needs_background": "light"
          }
        },
        {
          "output_type": "stream",
          "text": [
            "/usr/local/lib/python3.6/dist-packages/seaborn/distributions.py:2551: FutureWarning: `distplot` is a deprecated function and will be removed in a future version. Please adapt your code to use either `displot` (a figure-level function with similar flexibility) or `kdeplot` (an axes-level function for kernel density plots).\n",
            "  warnings.warn(msg, FutureWarning)\n"
          ],
          "name": "stderr"
        },
        {
          "output_type": "display_data",
          "data": {
            "image/png": "[encoded data removed]",
            "text/plain": [
              "<Figure size 432x288 with 1 Axes>"
            ]
          },
          "metadata": {
            "tags": [],
            "needs_background": "light"
          }
        },
        {
          "output_type": "stream",
          "text": [
            "/usr/local/lib/python3.6/dist-packages/seaborn/distributions.py:2551: FutureWarning: `distplot` is a deprecated function and will be removed in a future version. Please adapt your code to use either `displot` (a figure-level function with similar flexibility) or `kdeplot` (an axes-level function for kernel density plots).\n",
            "  warnings.warn(msg, FutureWarning)\n"
          ],
          "name": "stderr"
        },
        {
          "output_type": "display_data",
          "data": {
            "image/png": "[encoded data removed]",
            "text/plain": [
              "<Figure size 432x288 with 1 Axes>"
            ]
          },
          "metadata": {
            "tags": [],
            "needs_background": "light"
          }
        },
        {
          "output_type": "stream",
          "text": [
            "/usr/local/lib/python3.6/dist-packages/seaborn/distributions.py:2551: FutureWarning: `distplot` is a deprecated function and will be removed in a future version. Please adapt your code to use either `displot` (a figure-level function with similar flexibility) or `kdeplot` (an axes-level function for kernel density plots).\n",
            "  warnings.warn(msg, FutureWarning)\n"
          ],
          "name": "stderr"
        },
        {
          "output_type": "display_data",
          "data": {
            "image/png": "[encoded data removed]",
            "text/plain": [
              "<Figure size 432x288 with 1 Axes>"
            ]
          },
          "metadata": {
            "tags": [],
            "needs_background": "light"
          }
        },
        {
          "output_type": "stream",
          "text": [
            "/usr/local/lib/python3.6/dist-packages/seaborn/distributions.py:2551: FutureWarning: `distplot` is a deprecated function and will be removed in a future version. Please adapt your code to use either `displot` (a figure-level function with similar flexibility) or `kdeplot` (an axes-level function for kernel density plots).\n",
            "  warnings.warn(msg, FutureWarning)\n"
          ],
          "name": "stderr"
        },
        {
          "output_type": "display_data",
          "data": {
            "image/png": "[encoded data removed]",
            "text/plain": [
              "<Figure size 432x288 with 1 Axes>"
            ]
          },
          "metadata": {
            "tags": [],
            "needs_background": "light"
          }
        }
      ]
    },
    {
      "cell_type": "markdown",
      "metadata": {
        "id": "hWGEfLHlbiSL"
      },
      "source": [
        "* **Insights from Univariate Analysis**\n",
        "\n",
        "1. There are no null values in any of the columns.\n",
        "2. Except for **S.No** and **CustomerKey** columns, rest all columns can be included for Unsupervised learning as they are all continuous values and not categorical variables.\n",
        "3. Only **Avg_Credit_Limit** and **Total_visits_online** have Outlier values hence all these values may form a cluster of their own. It will interesting to see.\n",
        "4. Customers communicated with the Bank using 3 channels ways:         \n",
        "\n",
        "    *   By Visiting the Bank in Person\n",
        "    *   By Online means\n",
        "    *   By making calls\n",
        "Hence it will be interesting to see if the channel becomes the reason for forming a cluster of customers.\n",
        "\n",
        "5. **Avg_Credit_Limit** and **Total_Credit_Cards** can be multiplied and converted to one single column **Total_Credit_Limit**. This feature is going to have a higher importance in identify the cutomers who have current lower limit and can be targetted to upsell either by increasing their credit limit or by selling them more credit cards.\n",
        "         \n",
        "         \n",
        "\n",
        "\n",
        "    "
      ]
    },
    {
      "cell_type": "code",
      "metadata": {
        "colab": {
          "base_uri": "https://localhost:8080/"
        },
        "id": "yd8gOLuKg7Vp",
        "outputId": "7cd2ccfb-7bd9-4949-8fe0-5a9d457fdb34"
      },
      "source": [
        "# Adding column Total_Credit_Limit\n",
        "\n",
        "creditcard_data['Total Credit Limit'] = creditcard_data['Avg_Credit_Limit'] * creditcard_data['Total_Credit_Cards']\n",
        "\n",
        "creditcard_data_transformed = creditcard_data.iloc[:,2:6]\n",
        "\n",
        "print(creditcard_data_transformed)\n"
      ],
      "execution_count": null,
      "outputs": [
        {
          "output_type": "stream",
          "text": [
            "     Total_visits_bank  ...  Total Credit Limit\n",
            "0                    1  ...              200000\n",
            "1                    0  ...              150000\n",
            "2                    1  ...              350000\n",
            "3                    1  ...              150000\n",
            "4                    0  ...              600000\n",
            "..                 ...  ...                 ...\n",
            "655                  1  ...              990000\n",
            "656                  1  ...              840000\n",
            "657                  1  ...             1160000\n",
            "658                  1  ...             1720000\n",
            "659                  0  ...             1503000\n",
            "\n",
            "[660 rows x 4 columns]\n"
          ],
          "name": "stdout"
        }
      ]
    },
    {
      "cell_type": "code",
      "metadata": {
        "id": "wIh9awQrGjTy"
      },
      "source": [
        "##Scale the data\n",
        "from scipy.stats import zscore\n",
        "\n",
        "creditcard_data_z = creditcard_data_transformed.apply(zscore)\n"
      ],
      "execution_count": null,
      "outputs": []
    },
    {
      "cell_type": "code",
      "metadata": {
        "id": "dxr8bts4GjTy",
        "colab": {
          "base_uri": "https://localhost:8080/",
          "height": 745
        },
        "outputId": "08c6c5a3-2d1e-4779-da13-c13bf34b803c"
      },
      "source": [
        "import seaborn as sns\n",
        "sns.pairplot(creditcard_data_transformed, diag_kind='kde') "
      ],
      "execution_count": null,
      "outputs": [
        {
          "output_type": "execute_result",
          "data": {
            "text/plain": [
              "<seaborn.axisgrid.PairGrid at 0x7f8314fb9eb8>"
            ]
          },
          "metadata": {
            "tags": []
          },
          "execution_count": 30
        },
        {
          "output_type": "display_data",
          "data": {
            "image/png": "[encoded data removed]",
            "text/plain": [
              "<Figure size 720x720 with 20 Axes>"
            ]
          },
          "metadata": {
            "tags": [],
            "needs_background": "light"
          }
        }
      ]
    },
    {
      "cell_type": "markdown",
      "metadata": {
        "id": "wK1A7ihQjBKL"
      },
      "source": [
        "### Insights from EDA\n",
        "\n",
        "* The **pairplot** suggests that the guassian distribution of most of the variables have two - three peaks. Hence the data may have 2-3 clusters.\n",
        "* There are 39 outliers for the independant variable Average Credit Limit. Hence there is possibility that these group of Customers form a cluster of their own.\n",
        "* The **Pairplot** suggests that usually the Customers with higher **Total Credit Limit** have reached out to the bank through online channel more frequently. Also their are 37 Outliers for **Total Visits online**. This tells us that possibly that the Customers which has Outlier values for these **Total Credit Limit** and **Total Visits online** form a Cluster of their own,"
      ]
    },
    {
      "cell_type": "markdown",
      "metadata": {
        "id": "dYAg9lUMo9G9"
      },
      "source": [
        "#3.Execute K-means clustering use elbow plot and analyse clusters using boxplot"
      ]
    },
    {
      "cell_type": "code",
      "metadata": {
        "id": "vzO1NLkGGjTy",
        "colab": {
          "base_uri": "https://localhost:8080/",
          "height": 313
        },
        "outputId": "83123172-382c-49e8-fe54-b43dd83682b9"
      },
      "source": [
        "#Finding optimal no. of clusters\n",
        "from scipy.spatial.distance import cdist\n",
        "clusters=range(1,10)\n",
        "meanDistortions=[]\n",
        "\n",
        "for k in clusters:\n",
        "    model=KMeans(n_clusters=k)\n",
        "    model.fit(creditcard_data_transformed)\n",
        "    prediction=model.predict(creditcard_data_transformed)\n",
        "    meanDistortions.append(sum(np.min(cdist(creditcard_data_transformed, model.cluster_centers_, 'euclidean'), axis=1)) / creditcard_data_transformed\n",
        "                           .shape[0])\n",
        "\n",
        "\n",
        "plt.plot(clusters, meanDistortions, 'bx-')\n",
        "plt.xlabel('k')\n",
        "plt.ylabel('Average distortion')\n",
        "plt.title('Selecting k with the Elbow Method')"
      ],
      "execution_count": null,
      "outputs": [
        {
          "output_type": "execute_result",
          "data": {
            "text/plain": [
              "Text(0.5, 1.0, 'Selecting k with the Elbow Method')"
            ]
          },
          "metadata": {
            "tags": []
          },
          "execution_count": 31
        },
        {
          "output_type": "display_data",
          "data": {
            "image/png": "[encoded data removed]",
            "text/plain": [
              "<Figure size 432x288 with 1 Axes>"
            ]
          },
          "metadata": {
            "tags": [],
            "needs_background": "light"
          }
        }
      ]
    },
    {
      "cell_type": "code",
      "metadata": {
        "id": "RwtgPK_LGjTy"
      },
      "source": [
        "#Set the value of k=3\n",
        "kmeans = KMeans(n_clusters=3, n_init = 20, random_state=123)"
      ],
      "execution_count": null,
      "outputs": []
    },
    {
      "cell_type": "code",
      "metadata": {
        "id": "QwEpnfIJGjTz",
        "colab": {
          "base_uri": "https://localhost:8080/"
        },
        "outputId": "19f81033-e1ce-40df-8a98-cbc39938bcc6"
      },
      "source": [
        "kmeans.fit(creditcard_data_z)"
      ],
      "execution_count": null,
      "outputs": [
        {
          "output_type": "execute_result",
          "data": {
            "text/plain": [
              "KMeans(algorithm='auto', copy_x=True, init='k-means++', max_iter=300,\n",
              "       n_clusters=3, n_init=20, n_jobs=None, precompute_distances='auto',\n",
              "       random_state=123, tol=0.0001, verbose=0)"
            ]
          },
          "metadata": {
            "tags": []
          },
          "execution_count": 33
        }
      ]
    },
    {
      "cell_type": "code",
      "metadata": {
        "id": "vcASP3MBGjTz"
      },
      "source": [
        "centroids = kmeans.cluster_centers_"
      ],
      "execution_count": null,
      "outputs": []
    },
    {
      "cell_type": "code",
      "metadata": {
        "id": "fRnm4KJ3GjTz",
        "colab": {
          "base_uri": "https://localhost:8080/"
        },
        "outputId": "445afd62-9a4f-498d-f7af-2d315514b207"
      },
      "source": [
        "centroids"
      ],
      "execution_count": null,
      "outputs": [
        {
          "output_type": "execute_result",
          "data": {
            "text/plain": [
              "array([[ 0.65934901, -0.55187131, -0.55031131, -0.08598428],\n",
              "       [-1.10576269,  2.82731942, -0.87432983,  3.08550033],\n",
              "       [-0.91040105,  0.33172837,  1.16645969, -0.54672909]])"
            ]
          },
          "metadata": {
            "tags": []
          },
          "execution_count": 35
        }
      ]
    },
    {
      "cell_type": "code",
      "metadata": {
        "id": "36XZo4qbGjTz"
      },
      "source": [
        "#Calculate the centroids for the columns to profile\n",
        "centroid_df = pd.DataFrame(centroids, columns = list(creditcard_data_z) )"
      ],
      "execution_count": null,
      "outputs": []
    },
    {
      "cell_type": "code",
      "metadata": {
        "id": "uBj57LRtGjTz",
        "colab": {
          "base_uri": "https://localhost:8080/"
        },
        "outputId": "e812f1ed-34c9-4a0e-fadf-83a6b8b99c59"
      },
      "source": [
        "print(centroid_df)"
      ],
      "execution_count": null,
      "outputs": [
        {
          "output_type": "stream",
          "text": [
            "   Total_visits_bank  Total_visits_online  Total_calls_made  Total Credit Limit\n",
            "0           0.659349            -0.551871         -0.550311           -0.085984\n",
            "1          -1.105763             2.827319         -0.874330            3.085500\n",
            "2          -0.910401             0.331728          1.166460           -0.546729\n"
          ],
          "name": "stdout"
        }
      ]
    },
    {
      "cell_type": "code",
      "metadata": {
        "id": "hetfAJr6GjTz",
        "colab": {
          "base_uri": "https://localhost:8080/"
        },
        "outputId": "a42b02ab-efbb-4ada-cad6-a848618aca10"
      },
      "source": [
        "## creating a new dataframe only for labels and converting it into categorical variable\n",
        "df_labels = pd.DataFrame(kmeans.labels_ + 1 , columns = list(['labels']))\n",
        "\n",
        "df_labels['labels'] = df_labels['labels'].astype('category')\n",
        "\n",
        "print(df_labels)"
      ],
      "execution_count": null,
      "outputs": [
        {
          "output_type": "stream",
          "text": [
            "    labels\n",
            "0        1\n",
            "1        3\n",
            "2        3\n",
            "3        3\n",
            "4        2\n",
            "..     ...\n",
            "655      2\n",
            "656      2\n",
            "657      2\n",
            "658      2\n",
            "659      2\n",
            "\n",
            "[660 rows x 1 columns]\n"
          ],
          "name": "stdout"
        }
      ]
    },
    {
      "cell_type": "code",
      "metadata": {
        "id": "6wxz1hhOGjTz",
        "colab": {
          "base_uri": "https://localhost:8080/"
        },
        "outputId": "29dfb450-b062-4735-d5d3-ae5c0f0460e7"
      },
      "source": [
        "# Joining the label dataframe with the data frame.\n",
        "creditcard_data_labeled = creditcard_data_transformed.join(df_labels)\n",
        "creditcard_data_labeled_z = creditcard_data_z.join(df_labels)\n",
        "\n",
        "print(creditcard_data_labeled)"
      ],
      "execution_count": null,
      "outputs": [
        {
          "output_type": "stream",
          "text": [
            "     Total_visits_bank  Total_visits_online  ...  Total Credit Limit  labels\n",
            "0                    1                    1  ...              200000       1\n",
            "1                    0                   10  ...              150000       3\n",
            "2                    1                    3  ...              350000       3\n",
            "3                    1                    1  ...              150000       3\n",
            "4                    0                   12  ...              600000       2\n",
            "..                 ...                  ...  ...                 ...     ...\n",
            "655                  1                   10  ...              990000       2\n",
            "656                  1                   13  ...              840000       2\n",
            "657                  1                    9  ...             1160000       2\n",
            "658                  1                   15  ...             1720000       2\n",
            "659                  0                   12  ...             1503000       2\n",
            "\n",
            "[660 rows x 5 columns]\n"
          ],
          "name": "stdout"
        }
      ]
    },
    {
      "cell_type": "code",
      "metadata": {
        "id": "hYiHc67QGjTz",
        "colab": {
          "base_uri": "https://localhost:8080/",
          "height": 168
        },
        "outputId": "e6d4b415-f9de-4a00-f5b9-784f4eb8d0a1"
      },
      "source": [
        "creditcard_data_cluster = creditcard_data_labeled.groupby(['labels'])\n",
        "creditcard_data_cluster.mean()"
      ],
      "execution_count": null,
      "outputs": [
        {
          "output_type": "execute_result",
          "data": {
            "text/html": [
              "<div>\n",
              "<style scoped>\n",
              "    .dataframe tbody tr th:only-of-type {\n",
              "        vertical-align: middle;\n",
              "    }\n",
              "\n",
              "    .dataframe tbody tr th {\n",
              "        vertical-align: top;\n",
              "    }\n",
              "\n",
              "    .dataframe thead th {\n",
              "        text-align: right;\n",
              "    }\n",
              "</style>\n",
              "<table border=\"1\" class=\"dataframe\">\n",
              "  <thead>\n",
              "    <tr style=\"text-align: right;\">\n",
              "      <th></th>\n",
              "      <th>Total_visits_bank</th>\n",
              "      <th>Total_visits_online</th>\n",
              "      <th>Total_calls_made</th>\n",
              "      <th>Total Credit Limit</th>\n",
              "    </tr>\n",
              "    <tr>\n",
              "      <th>labels</th>\n",
              "      <th></th>\n",
              "      <th></th>\n",
              "      <th></th>\n",
              "      <th></th>\n",
              "    </tr>\n",
              "  </thead>\n",
              "  <tbody>\n",
              "    <tr>\n",
              "      <th>1</th>\n",
              "      <td>3.478149</td>\n",
              "      <td>0.987147</td>\n",
              "      <td>2.007712</td>\n",
              "      <td>1.839460e+05</td>\n",
              "    </tr>\n",
              "    <tr>\n",
              "      <th>2</th>\n",
              "      <td>0.600000</td>\n",
              "      <td>10.900000</td>\n",
              "      <td>1.080000</td>\n",
              "      <td>1.229600e+06</td>\n",
              "    </tr>\n",
              "    <tr>\n",
              "      <th>3</th>\n",
              "      <td>0.918552</td>\n",
              "      <td>3.579186</td>\n",
              "      <td>6.923077</td>\n",
              "      <td>3.203620e+04</td>\n",
              "    </tr>\n",
              "  </tbody>\n",
              "</table>\n",
              "</div>"
            ],
            "text/plain": [
              "        Total_visits_bank  ...  Total Credit Limit\n",
              "labels                     ...                    \n",
              "1                3.478149  ...        1.839460e+05\n",
              "2                0.600000  ...        1.229600e+06\n",
              "3                0.918552  ...        3.203620e+04\n",
              "\n",
              "[3 rows x 4 columns]"
            ]
          },
          "metadata": {
            "tags": []
          },
          "execution_count": 41
        }
      ]
    },
    {
      "cell_type": "code",
      "metadata": {
        "id": "kvrJXYw3GjT0",
        "colab": {
          "base_uri": "https://localhost:8080/"
        },
        "outputId": "f12de0f9-6b48-412b-bd45-4160ca982398"
      },
      "source": [
        "creditcard_data_labeled['labels'].value_counts()  "
      ],
      "execution_count": null,
      "outputs": [
        {
          "output_type": "execute_result",
          "data": {
            "text/plain": [
              "1    389\n",
              "3    221\n",
              "2     50\n",
              "Name: labels, dtype: int64"
            ]
          },
          "metadata": {
            "tags": []
          },
          "execution_count": 42
        }
      ]
    },
    {
      "cell_type": "code",
      "metadata": {
        "id": "vEaeujMoGjT1",
        "colab": {
          "base_uri": "https://localhost:8080/",
          "height": 497
        },
        "outputId": "8ab3d833-ab95-4f5d-d29d-90c2f45eeb8a"
      },
      "source": [
        "creditcard_data_labeled_z.boxplot(by='labels', layout = (2,4),figsize=(15,10))"
      ],
      "execution_count": null,
      "outputs": [
        {
          "output_type": "execute_result",
          "data": {
            "text/plain": [
              "array([[<matplotlib.axes._subplots.AxesSubplot object at 0x7f8316f09320>,\n",
              "        <matplotlib.axes._subplots.AxesSubplot object at 0x7f8313bd2e10>,\n",
              "        <matplotlib.axes._subplots.AxesSubplot object at 0x7f8313b89ba8>,\n",
              "        <matplotlib.axes._subplots.AxesSubplot object at 0x7f8313b40940>],\n",
              "       [<matplotlib.axes._subplots.AxesSubplot object at 0x7f8313b786d8>,\n",
              "        <matplotlib.axes._subplots.AxesSubplot object at 0x7f8313b29940>,\n",
              "        <matplotlib.axes._subplots.AxesSubplot object at 0x7f8313adfba8>,\n",
              "        <matplotlib.axes._subplots.AxesSubplot object at 0x7f8313a95dd8>]],\n",
              "      dtype=object)"
            ]
          },
          "metadata": {
            "tags": []
          },
          "execution_count": 43
        },
        {
          "output_type": "display_data",
          "data": {
            "image/png": "[encoded data removed]",
            "text/plain": [
              "<Figure size 1080x720 with 8 Axes>"
            ]
          },
          "metadata": {
            "tags": [],
            "needs_background": "light"
          }
        }
      ]
    },
    {
      "cell_type": "markdown",
      "metadata": {
        "id": "DQUWGnoBe7TW"
      },
      "source": [
        "### Analysis Of Clusters Identified through K-means\n",
        "\n",
        "**Note**: From the data the spending pattern is not clear, as having a high credit limit does not necessarily means that the credit limit has been utilized. Hence I am assuming that upselling the customers would mean either selling them new credit card or increasing their card limit.\n",
        "\n",
        "Based on the above clustering three main segments of Customers have been identified:\n",
        "*  Group 0 : These Customers have an average credit limit of 33K and have on an average 5-6 credit cards.\n",
        "*  Group 1 : These Customers have an average credit limit of 12k and have an average 2-3 credit cards.\n",
        "*  Group 2 : These Customers have an average credit limit of 141K and have a 8-9 credit cards.\n",
        "\n",
        "**Conclusion** : \n",
        "\n",
        "* If the bank wishes to increase their penetration into the csutomer base into a market they should go for Group 2 customers first. There are fairly large number of customers in this group, comprising around 30% of customers with relatively low credit limit. Hence there is a scope of onboarding those customers. \n",
        "\n",
        "     Next they can target customers from group 0, has 60% of the total customers. Also members from these groups visit Bank more frequently than the other two groups. Hence that presents the bank as an oppourtunity to sell additional products.\n",
        "\n",
        "* If the bank wishes to improve service delivery they should start with resolving the query made by Group 2 customers first as these csutomers have made relatively higher number of phone calls for their queries.\n",
        "\n",
        "\n"
      ]
    },
    {
      "cell_type": "markdown",
      "metadata": {
        "id": "NDfgjvrWqAFV"
      },
      "source": [
        "# 4. Execute hierarchical clustering (with different linkages) with the help of dendrogram and cophenetic coeff. Analyse clusters formed using boxplot"
      ]
    },
    {
      "cell_type": "markdown",
      "metadata": {
        "id": "94y7gfWcqK0Y"
      },
      "source": [
        "##Find out the linkage matrix"
      ]
    },
    {
      "cell_type": "code",
      "metadata": {
        "colab": {
          "base_uri": "https://localhost:8080/"
        },
        "id": "IlsX7Emu4E21",
        "outputId": "0125a795-98b5-4fec-cf9f-02497aacab97"
      },
      "source": [
        "print(creditcard_data_z)"
      ],
      "execution_count": null,
      "outputs": [
        {
          "output_type": "stream",
          "text": [
            "     Total_visits_bank  ...  Total Credit Limit\n",
            "0            -0.860451  ...           -0.037292\n",
            "1            -1.473731  ...           -0.188943\n",
            "2            -0.860451  ...            0.417660\n",
            "3            -0.860451  ...           -0.188943\n",
            "4            -1.473731  ...            1.175914\n",
            "..                 ...  ...                 ...\n",
            "655          -0.860451  ...            2.358790\n",
            "656          -0.860451  ...            1.903838\n",
            "657          -0.860451  ...            2.874402\n",
            "658          -0.860451  ...            4.572891\n",
            "659          -1.473731  ...            3.914727\n",
            "\n",
            "[660 rows x 4 columns]\n"
          ],
          "name": "stdout"
        }
      ]
    },
    {
      "cell_type": "code",
      "metadata": {
        "id": "pdckdsnhe6wJ",
        "colab": {
          "base_uri": "https://localhost:8080/"
        },
        "outputId": "a41d7547-90e0-49cd-c41f-5c82186e215f"
      },
      "source": [
        "from scipy.cluster.hierarchy import dendrogram, linkage\n",
        "Z = linkage(creditcard_data_z, 'ward', metric='euclidean')\n",
        "Z.shape"
      ],
      "execution_count": null,
      "outputs": [
        {
          "output_type": "execute_result",
          "data": {
            "text/plain": [
              "(659, 4)"
            ]
          },
          "metadata": {
            "tags": []
          },
          "execution_count": 45
        }
      ]
    },
    {
      "cell_type": "code",
      "metadata": {
        "colab": {
          "base_uri": "https://localhost:8080/"
        },
        "id": "zUOoP3AVrPtf",
        "outputId": "dbfb5e04-9cd9-4830-977a-065a69f7c8e7"
      },
      "source": [
        "Z[:]"
      ],
      "execution_count": null,
      "outputs": [
        {
          "output_type": "execute_result",
          "data": {
            "text/plain": [
              "array([[ 464.        ,  497.        ,    0.        ,    2.        ],\n",
              "       [ 240.        ,  344.        ,    0.        ,    2.        ],\n",
              "       [ 425.        ,  455.        ,    0.        ,    2.        ],\n",
              "       ...,\n",
              "       [1312.        , 1314.        ,   16.34625689,  383.        ],\n",
              "       [1315.        , 1316.        ,   42.43243102,  610.        ],\n",
              "       [1313.        , 1317.        ,   45.93437831,  660.        ]])"
            ]
          },
          "metadata": {
            "tags": []
          },
          "execution_count": 46
        }
      ]
    },
    {
      "cell_type": "code",
      "metadata": {
        "colab": {
          "base_uri": "https://localhost:8080/",
          "height": 345
        },
        "id": "VbwAvzHarVOg",
        "outputId": "4ae541ed-5887-4d29-be57-12381bb66e8b"
      },
      "source": [
        "plt.figure(figsize=(25, 10))\n",
        "dendrogram(Z)\n",
        "plt.show()"
      ],
      "execution_count": null,
      "outputs": [
        {
          "output_type": "display_data",
          "data": {
            "image/png": "[encoded data removed]",
            "text/plain": [
              "<Figure size 1800x720 with 1 Axes>"
            ]
          },
          "metadata": {
            "tags": [],
            "needs_background": "light"
          }
        }
      ]
    },
    {
      "cell_type": "markdown",
      "metadata": {
        "id": "qPmVFNn1wpxY"
      },
      "source": [
        "##From the truncated dendrogram, find out the optimal distance between clusters which u want to use an input for clustering data"
      ]
    },
    {
      "cell_type": "code",
      "metadata": {
        "colab": {
          "base_uri": "https://localhost:8080/",
          "height": 268
        },
        "id": "SNrOORxOwpZL",
        "outputId": "ed1c8629-a28c-4091-c6ab-8d25f2cb3e55"
      },
      "source": [
        "# Hint: Use truncate_mode='lastp' attribute in dendrogram function to arrive at dendrogram\n",
        "dendrogram(\n",
        "    Z,\n",
        "    truncate_mode='lastp',  # show only the last p merged clusters\n",
        "    p=3,  # show only the last p merged clusters\n",
        ")\n",
        "plt.show()"
      ],
      "execution_count": null,
      "outputs": [
        {
          "output_type": "display_data",
          "data": {
            "image/png": "[encoded data removed]",
            "text/plain": [
              "<Figure size 432x288 with 1 Axes>"
            ]
          },
          "metadata": {
            "tags": [],
            "needs_background": "light"
          }
        }
      ]
    },
    {
      "cell_type": "markdown",
      "metadata": {
        "id": "dyP-QvurxSYZ"
      },
      "source": [
        "##Use this distance measure(max_d) and fcluster function to cluster the data into 3 different groups"
      ]
    },
    {
      "cell_type": "code",
      "metadata": {
        "id": "IZ97IVg6xsTi"
      },
      "source": [
        "max_d = 42"
      ],
      "execution_count": null,
      "outputs": []
    },
    {
      "cell_type": "code",
      "metadata": {
        "colab": {
          "base_uri": "https://localhost:8080/"
        },
        "id": "SGa3XmyuxaXf",
        "outputId": "069ea9b4-3b4e-486e-e0e8-a16045e89f49"
      },
      "source": [
        "from scipy.cluster.hierarchy import fcluster\n",
        "clusters = fcluster(Z, max_d, criterion='distance')\n",
        "clusters"
      ],
      "execution_count": null,
      "outputs": [
        {
          "output_type": "execute_result",
          "data": {
            "text/plain": [
              "array([3, 2, 3, 2, 1, 2, 1, 2, 2, 2, 2, 2, 2, 2, 2, 2, 2, 2, 2, 2, 2, 2,\n",
              "       2, 2, 2, 2, 2, 2, 2, 2, 2, 2, 2, 2, 2, 2, 2, 2, 2, 2, 2, 2, 2, 2,\n",
              "       2, 2, 2, 2, 2, 2, 2, 2, 2, 2, 2, 2, 2, 2, 2, 2, 2, 2, 2, 2, 2, 2,\n",
              "       2, 2, 2, 2, 2, 2, 2, 2, 2, 2, 2, 2, 2, 2, 2, 2, 2, 2, 2, 2, 2, 2,\n",
              "       2, 2, 2, 2, 2, 2, 2, 2, 2, 2, 2, 2, 2, 2, 2, 2, 2, 2, 2, 2, 2, 2,\n",
              "       2, 2, 2, 2, 2, 2, 2, 2, 2, 2, 2, 2, 2, 2, 2, 2, 2, 2, 2, 2, 2, 2,\n",
              "       2, 2, 2, 2, 2, 2, 2, 2, 2, 2, 2, 2, 2, 2, 2, 2, 2, 2, 2, 2, 2, 2,\n",
              "       2, 2, 2, 2, 2, 2, 2, 2, 2, 2, 2, 2, 2, 2, 2, 2, 2, 2, 2, 2, 2, 2,\n",
              "       2, 2, 2, 2, 2, 2, 2, 2, 2, 2, 2, 2, 2, 2, 2, 2, 2, 2, 2, 2, 2, 2,\n",
              "       2, 2, 2, 2, 2, 2, 2, 2, 2, 2, 2, 2, 2, 2, 2, 2, 2, 2, 2, 2, 2, 2,\n",
              "       2, 2, 2, 2, 2, 2, 2, 2, 3, 3, 3, 3, 3, 3, 3, 3, 3, 3, 3, 3, 3, 3,\n",
              "       3, 3, 3, 3, 3, 3, 3, 3, 3, 3, 3, 3, 3, 3, 3, 3, 3, 3, 3, 3, 3, 3,\n",
              "       3, 3, 3, 3, 3, 3, 3, 3, 2, 3, 3, 3, 3, 3, 3, 3, 3, 3, 3, 3, 3, 3,\n",
              "       3, 3, 2, 3, 3, 3, 3, 3, 3, 3, 3, 3, 3, 3, 3, 3, 3, 3, 3, 3, 3, 3,\n",
              "       3, 3, 3, 3, 3, 2, 3, 3, 3, 3, 3, 3, 3, 3, 3, 3, 3, 3, 3, 3, 3, 3,\n",
              "       3, 3, 3, 3, 3, 3, 3, 3, 3, 3, 3, 3, 3, 3, 3, 3, 3, 3, 3, 3, 3, 3,\n",
              "       3, 3, 3, 3, 3, 3, 3, 3, 3, 3, 3, 3, 3, 3, 3, 3, 3, 3, 3, 3, 3, 3,\n",
              "       3, 3, 3, 3, 3, 3, 3, 3, 3, 3, 3, 3, 3, 3, 3, 3, 3, 3, 3, 3, 3, 3,\n",
              "       3, 3, 3, 3, 3, 3, 3, 3, 3, 3, 3, 3, 3, 3, 3, 3, 3, 3, 3, 3, 3, 3,\n",
              "       3, 3, 3, 3, 3, 3, 3, 3, 3, 3, 3, 3, 3, 3, 3, 3, 3, 3, 3, 3, 3, 3,\n",
              "       3, 3, 3, 3, 3, 3, 3, 3, 3, 3, 3, 3, 3, 3, 3, 3, 3, 3, 3, 3, 3, 3,\n",
              "       3, 3, 3, 3, 3, 3, 3, 3, 3, 3, 3, 3, 3, 3, 3, 3, 3, 3, 3, 3, 3, 3,\n",
              "       3, 3, 3, 3, 3, 3, 3, 3, 3, 3, 3, 3, 3, 3, 3, 3, 3, 3, 3, 3, 3, 3,\n",
              "       3, 3, 3, 3, 3, 3, 3, 3, 3, 3, 3, 3, 3, 3, 3, 3, 3, 3, 3, 3, 3, 3,\n",
              "       3, 3, 3, 3, 3, 3, 3, 3, 3, 3, 3, 3, 3, 3, 3, 3, 3, 3, 3, 3, 3, 3,\n",
              "       3, 3, 3, 3, 3, 3, 3, 3, 3, 3, 3, 3, 3, 3, 3, 3, 3, 3, 3, 3, 3, 3,\n",
              "       3, 3, 3, 3, 3, 3, 3, 3, 3, 3, 3, 3, 3, 3, 3, 3, 3, 3, 3, 3, 3, 3,\n",
              "       3, 3, 3, 3, 3, 3, 3, 3, 3, 3, 3, 3, 3, 3, 3, 3, 3, 3, 1, 1, 1, 1,\n",
              "       1, 1, 1, 1, 1, 1, 1, 1, 1, 1, 1, 1, 1, 1, 1, 1, 1, 1, 1, 1, 1, 1,\n",
              "       1, 1, 1, 1, 1, 1, 1, 1, 1, 1, 1, 1, 1, 1, 1, 1, 1, 1, 1, 1, 1, 1],\n",
              "      dtype=int32)"
            ]
          },
          "metadata": {
            "tags": []
          },
          "execution_count": 60
        }
      ]
    },
    {
      "cell_type": "code",
      "metadata": {
        "colab": {
          "base_uri": "https://localhost:8080/",
          "height": 168
        },
        "id": "HhYZs2Xd3x7P",
        "outputId": "95259fb3-6f63-4485-b84a-db30249a34db"
      },
      "source": [
        "# Joining Cluster label information with the dataframe\n",
        "\n",
        "creditcard_data_transformed['label_hr'] = clusters\n",
        "creditcard_data_labeled_z['label_hr'] = clusters\n",
        "\n",
        "creditcard_data_hierarchichal_clustering = creditcard_data_transformed.groupby(['label_hr'])\n",
        "creditcard_data_hierarchichal_clustering.mean()"
      ],
      "execution_count": null,
      "outputs": [
        {
          "output_type": "execute_result",
          "data": {
            "text/html": [
              "<div>\n",
              "<style scoped>\n",
              "    .dataframe tbody tr th:only-of-type {\n",
              "        vertical-align: middle;\n",
              "    }\n",
              "\n",
              "    .dataframe tbody tr th {\n",
              "        vertical-align: top;\n",
              "    }\n",
              "\n",
              "    .dataframe thead th {\n",
              "        text-align: right;\n",
              "    }\n",
              "</style>\n",
              "<table border=\"1\" class=\"dataframe\">\n",
              "  <thead>\n",
              "    <tr style=\"text-align: right;\">\n",
              "      <th></th>\n",
              "      <th>Total_visits_bank</th>\n",
              "      <th>Total_visits_online</th>\n",
              "      <th>Total_calls_made</th>\n",
              "      <th>Total Credit Limit</th>\n",
              "    </tr>\n",
              "    <tr>\n",
              "      <th>label_hr</th>\n",
              "      <th></th>\n",
              "      <th></th>\n",
              "      <th></th>\n",
              "      <th></th>\n",
              "    </tr>\n",
              "  </thead>\n",
              "  <tbody>\n",
              "    <tr>\n",
              "      <th>1</th>\n",
              "      <td>0.600000</td>\n",
              "      <td>10.900000</td>\n",
              "      <td>1.080000</td>\n",
              "      <td>1.229600e+06</td>\n",
              "    </tr>\n",
              "    <tr>\n",
              "      <th>2</th>\n",
              "      <td>0.942731</td>\n",
              "      <td>3.528634</td>\n",
              "      <td>6.832599</td>\n",
              "      <td>3.072247e+04</td>\n",
              "    </tr>\n",
              "    <tr>\n",
              "      <th>3</th>\n",
              "      <td>3.503916</td>\n",
              "      <td>0.976501</td>\n",
              "      <td>1.984334</td>\n",
              "      <td>1.871044e+05</td>\n",
              "    </tr>\n",
              "  </tbody>\n",
              "</table>\n",
              "</div>"
            ],
            "text/plain": [
              "          Total_visits_bank  ...  Total Credit Limit\n",
              "label_hr                     ...                    \n",
              "1                  0.600000  ...        1.229600e+06\n",
              "2                  0.942731  ...        3.072247e+04\n",
              "3                  3.503916  ...        1.871044e+05\n",
              "\n",
              "[3 rows x 4 columns]"
            ]
          },
          "metadata": {
            "tags": []
          },
          "execution_count": 61
        }
      ]
    },
    {
      "cell_type": "markdown",
      "metadata": {
        "id": "enHuZLL4wEgx"
      },
      "source": [
        "## Determine the box plot for Hierarchichal Cluster"
      ]
    },
    {
      "cell_type": "code",
      "metadata": {
        "colab": {
          "base_uri": "https://localhost:8080/",
          "height": 498
        },
        "id": "Wc03YCrOw8fZ",
        "outputId": "9fb1fa8b-6acd-4a7e-ef33-8723a70b0b57"
      },
      "source": [
        "creditcard_data_labeled_z.boxplot(by='label_hr', layout = (2,4),figsize=(15,10))"
      ],
      "execution_count": null,
      "outputs": [
        {
          "output_type": "execute_result",
          "data": {
            "text/plain": [
              "array([[<matplotlib.axes._subplots.AxesSubplot object at 0x7f8313160d30>,\n",
              "        <matplotlib.axes._subplots.AxesSubplot object at 0x7f831310b748>,\n",
              "        <matplotlib.axes._subplots.AxesSubplot object at 0x7f83130bf4e0>,\n",
              "        <matplotlib.axes._subplots.AxesSubplot object at 0x7f83130f2278>],\n",
              "       [<matplotlib.axes._subplots.AxesSubplot object at 0x7f831309d390>,\n",
              "        <matplotlib.axes._subplots.AxesSubplot object at 0x7f831304c5f8>,\n",
              "        <matplotlib.axes._subplots.AxesSubplot object at 0x7f8312ffd860>,\n",
              "        <matplotlib.axes._subplots.AxesSubplot object at 0x7f831302da90>]],\n",
              "      dtype=object)"
            ]
          },
          "metadata": {
            "tags": []
          },
          "execution_count": 62
        },
        {
          "output_type": "display_data",
          "data": {
            "image/png": "[encoded data removed]",
            "text/plain": [
              "<Figure size 1080x720 with 8 Axes>"
            ]
          },
          "metadata": {
            "tags": [],
            "needs_background": "light"
          }
        }
      ]
    },
    {
      "cell_type": "markdown",
      "metadata": {
        "id": "rmUlx_Bd2MgV"
      },
      "source": [
        "# 5.Calculate average silhouette score for both methods. "
      ]
    },
    {
      "cell_type": "code",
      "metadata": {
        "id": "Q7GfgONTwHRm",
        "colab": {
          "base_uri": "https://localhost:8080/",
          "height": 765
        },
        "outputId": "cbd20b0e-4fac-4cef-d990-9984b355cc9a"
      },
      "source": [
        "creditcard_data_labeled_z.boxplot(by='labels', layout = (2,4),figsize=(15,10))"
      ],
      "execution_count": null,
      "outputs": [
        {
          "output_type": "execute_result",
          "data": {
            "text/plain": [
              "array([[<matplotlib.axes._subplots.AxesSubplot object at 0x7f8312cab748>,\n",
              "        <matplotlib.axes._subplots.AxesSubplot object at 0x7f8312b20518>,\n",
              "        <matplotlib.axes._subplots.AxesSubplot object at 0x7f8312ad3588>,\n",
              "        <matplotlib.axes._subplots.AxesSubplot object at 0x7f8312a845f8>],\n",
              "       [<matplotlib.axes._subplots.AxesSubplot object at 0x7f8312aba668>,\n",
              "        <matplotlib.axes._subplots.AxesSubplot object at 0x7f8312a6d6d8>,\n",
              "        <matplotlib.axes._subplots.AxesSubplot object at 0x7f8312a1ea58>,\n",
              "        <matplotlib.axes._subplots.AxesSubplot object at 0x7f83129d2da0>]],\n",
              "      dtype=object)"
            ]
          },
          "metadata": {
            "tags": []
          },
          "execution_count": 64
        },
        {
          "output_type": "display_data",
          "data": {
            "image/png": "[encoded data removed]",
            "text/plain": [
              "<Figure size 1080x720 with 8 Axes>"
            ]
          },
          "metadata": {
            "tags": [],
            "needs_background": "light"
          }
        }
      ]
    },
    {
      "cell_type": "code",
      "metadata": {
        "colab": {
          "base_uri": "https://localhost:8080/"
        },
        "id": "XD-tC9PO2U8K",
        "outputId": "05ff7ae2-06b6-4973-8385-d56b712a22cb"
      },
      "source": [
        "# Avg Silhoutte Score For K-means Clustering\n",
        "\n",
        "from sklearn.metrics import silhouette_score\n",
        "silhouette_score(creditcard_data_z,creditcard_data_labeled['labels'])"
      ],
      "execution_count": null,
      "outputs": [
        {
          "output_type": "execute_result",
          "data": {
            "text/plain": [
              "0.524876239298897"
            ]
          },
          "metadata": {
            "tags": []
          },
          "execution_count": 65
        }
      ]
    },
    {
      "cell_type": "code",
      "metadata": {
        "colab": {
          "base_uri": "https://localhost:8080/"
        },
        "id": "kwOmSa0iyjVS",
        "outputId": "41039c5f-b1c7-4213-c7b9-1f4399717e08"
      },
      "source": [
        "# Avg Silhoutte Score For Hierarchichal Clustering\n",
        "\n",
        "from sklearn.metrics import silhouette_score\n",
        "silhouette_score(creditcard_data_z,clusters)"
      ],
      "execution_count": null,
      "outputs": [
        {
          "output_type": "execute_result",
          "data": {
            "text/plain": [
              "0.5217313150234595"
            ]
          },
          "metadata": {
            "tags": []
          },
          "execution_count": 66
        }
      ]
    },
    {
      "cell_type": "markdown",
      "metadata": {
        "id": "8y3Dwrgw08_n"
      },
      "source": [
        "* **Conclusion** The Average Silhoute Score for both the K-means and Hierarchichal CLustering is similar"
      ]
    },
    {
      "cell_type": "markdown",
      "metadata": {
        "id": "gR3CLGn-3kx6"
      },
      "source": [
        "#6. Compare K-means clusters with Hierarchical clusters."
      ]
    },
    {
      "cell_type": "markdown",
      "metadata": {
        "id": "Xnyc0Gw_dLVJ"
      },
      "source": [
        "In order to compare the clusters identified by both methods, we are going to identify the Average value of the variables for each cluster and compare based on that."
      ]
    },
    {
      "cell_type": "markdown",
      "metadata": {
        "id": "xxlmxgHjkBIR"
      },
      "source": [
        "## Average for K-means Clustering"
      ]
    },
    {
      "cell_type": "code",
      "metadata": {
        "colab": {
          "base_uri": "https://localhost:8080/",
          "height": 168
        },
        "id": "d91BOvrekAcz",
        "outputId": "37d57f6d-9df6-4a22-e5a8-fe229a1b5213"
      },
      "source": [
        "creditcard_data_cluster = creditcard_data_labeled.groupby(['labels'])\n",
        "creditcard_data_cluster.mean()"
      ],
      "execution_count": null,
      "outputs": [
        {
          "output_type": "execute_result",
          "data": {
            "text/html": [
              "<div>\n",
              "<style scoped>\n",
              "    .dataframe tbody tr th:only-of-type {\n",
              "        vertical-align: middle;\n",
              "    }\n",
              "\n",
              "    .dataframe tbody tr th {\n",
              "        vertical-align: top;\n",
              "    }\n",
              "\n",
              "    .dataframe thead th {\n",
              "        text-align: right;\n",
              "    }\n",
              "</style>\n",
              "<table border=\"1\" class=\"dataframe\">\n",
              "  <thead>\n",
              "    <tr style=\"text-align: right;\">\n",
              "      <th></th>\n",
              "      <th>Total_visits_bank</th>\n",
              "      <th>Total_visits_online</th>\n",
              "      <th>Total_calls_made</th>\n",
              "      <th>Total Credit Limit</th>\n",
              "    </tr>\n",
              "    <tr>\n",
              "      <th>labels</th>\n",
              "      <th></th>\n",
              "      <th></th>\n",
              "      <th></th>\n",
              "      <th></th>\n",
              "    </tr>\n",
              "  </thead>\n",
              "  <tbody>\n",
              "    <tr>\n",
              "      <th>1</th>\n",
              "      <td>3.478149</td>\n",
              "      <td>0.987147</td>\n",
              "      <td>2.007712</td>\n",
              "      <td>1.839460e+05</td>\n",
              "    </tr>\n",
              "    <tr>\n",
              "      <th>2</th>\n",
              "      <td>0.600000</td>\n",
              "      <td>10.900000</td>\n",
              "      <td>1.080000</td>\n",
              "      <td>1.229600e+06</td>\n",
              "    </tr>\n",
              "    <tr>\n",
              "      <th>3</th>\n",
              "      <td>0.918552</td>\n",
              "      <td>3.579186</td>\n",
              "      <td>6.923077</td>\n",
              "      <td>3.203620e+04</td>\n",
              "    </tr>\n",
              "  </tbody>\n",
              "</table>\n",
              "</div>"
            ],
            "text/plain": [
              "        Total_visits_bank  ...  Total Credit Limit\n",
              "labels                     ...                    \n",
              "1                3.478149  ...        1.839460e+05\n",
              "2                0.600000  ...        1.229600e+06\n",
              "3                0.918552  ...        3.203620e+04\n",
              "\n",
              "[3 rows x 4 columns]"
            ]
          },
          "metadata": {
            "tags": []
          },
          "execution_count": 67
        }
      ]
    },
    {
      "cell_type": "markdown",
      "metadata": {
        "id": "XIcU1mrsexnT"
      },
      "source": [
        "### Average for Hierarchichal Clustering"
      ]
    },
    {
      "cell_type": "code",
      "metadata": {
        "colab": {
          "base_uri": "https://localhost:8080/",
          "height": 168
        },
        "id": "_gpfeNFOdFoe",
        "outputId": "8f589617-37a2-47a6-836b-7e4e0622f80e"
      },
      "source": [
        "creditcard_data_transformed['label_hr'] = clusters\n",
        "\n",
        "creditcard_data_hierarchichal_clustering = creditcard_data_transformed.groupby(['label_hr'])\n",
        "creditcard_data_hierarchichal_clustering.mean()"
      ],
      "execution_count": null,
      "outputs": [
        {
          "output_type": "execute_result",
          "data": {
            "text/html": [
              "<div>\n",
              "<style scoped>\n",
              "    .dataframe tbody tr th:only-of-type {\n",
              "        vertical-align: middle;\n",
              "    }\n",
              "\n",
              "    .dataframe tbody tr th {\n",
              "        vertical-align: top;\n",
              "    }\n",
              "\n",
              "    .dataframe thead th {\n",
              "        text-align: right;\n",
              "    }\n",
              "</style>\n",
              "<table border=\"1\" class=\"dataframe\">\n",
              "  <thead>\n",
              "    <tr style=\"text-align: right;\">\n",
              "      <th></th>\n",
              "      <th>Total_visits_bank</th>\n",
              "      <th>Total_visits_online</th>\n",
              "      <th>Total_calls_made</th>\n",
              "      <th>Total Credit Limit</th>\n",
              "    </tr>\n",
              "    <tr>\n",
              "      <th>label_hr</th>\n",
              "      <th></th>\n",
              "      <th></th>\n",
              "      <th></th>\n",
              "      <th></th>\n",
              "    </tr>\n",
              "  </thead>\n",
              "  <tbody>\n",
              "    <tr>\n",
              "      <th>1</th>\n",
              "      <td>0.600000</td>\n",
              "      <td>10.900000</td>\n",
              "      <td>1.080000</td>\n",
              "      <td>1.229600e+06</td>\n",
              "    </tr>\n",
              "    <tr>\n",
              "      <th>2</th>\n",
              "      <td>0.942731</td>\n",
              "      <td>3.528634</td>\n",
              "      <td>6.832599</td>\n",
              "      <td>3.072247e+04</td>\n",
              "    </tr>\n",
              "    <tr>\n",
              "      <th>3</th>\n",
              "      <td>3.503916</td>\n",
              "      <td>0.976501</td>\n",
              "      <td>1.984334</td>\n",
              "      <td>1.871044e+05</td>\n",
              "    </tr>\n",
              "  </tbody>\n",
              "</table>\n",
              "</div>"
            ],
            "text/plain": [
              "          Total_visits_bank  ...  Total Credit Limit\n",
              "label_hr                     ...                    \n",
              "1                  0.600000  ...        1.229600e+06\n",
              "2                  0.942731  ...        3.072247e+04\n",
              "3                  3.503916  ...        1.871044e+05\n",
              "\n",
              "[3 rows x 4 columns]"
            ]
          },
          "metadata": {
            "tags": []
          },
          "execution_count": 69
        }
      ]
    },
    {
      "cell_type": "markdown",
      "metadata": {
        "id": "5UUlNUVbkxkq"
      },
      "source": [
        "* A comparision of the average values in clusters formed by both the methods suggests that the clusters formed in both the cases are almost identical.\n",
        "\n",
        "They have resembling mean values for all the columns."
      ]
    },
    {
      "cell_type": "markdown",
      "metadata": {
        "id": "uFGEtL2eb-za"
      },
      "source": [
        "# 7.Analysis of the clusters formed, tell us how is one cluster different from another and answer all the key questions."
      ]
    },
    {
      "cell_type": "markdown",
      "metadata": {
        "id": "00BUNDEXcFNu"
      },
      "source": [
        "### Analysis Of Clusters Identified \n",
        "\n",
        "**Note**: From the data the spending pattern is not clear, as having a high credit limit does not necessarily means that the credit limit has been utilized. Hence I am assuming that upselling the customers would mean either selling them new credit card or increasing their card limit.\n",
        "\n",
        "Based on the above clustering three main segments of Customers have been identified:\n",
        "*  Group 1 : These Customers have an average credit limit of 1.871044e+05 and have on an average 5-6 credit cards.\n",
        "*  Group 2 : These Customers have an average credit limit of 3.072247e+04 and have an average 2-3 credit cards.\n",
        "*  Group 3 : These Customers have an average credit limit of 1.229600e+06 and have a 8-9 credit cards.\n",
        "\n",
        "**Conclusion** : \n",
        "\n",
        "\n",
        "\n",
        "* **Key Questions**:\n",
        "1. How many different segments of customers are there? \n",
        "      \n",
        "    - 3 Clusters have been identified primarily based on the Average Credit Card limit and the preferrrence of communication channel with bank for queries.\n",
        "\n",
        "    2. How are these segments different from each other?\n",
        "\n",
        "   These 3 clusters of customers have credit limit in differet ranges. Also their preferrence of channel of communicating with Bank for queries is different.\n",
        "\n",
        "    * Group 1 :   These customers have visited the bank more number of times compared to members from other groups.\n",
        "\n",
        "    * Group 2 :   Customer from this group usually calls the bank for credit card related quires.\n",
        "\n",
        "\n",
        "    * Group 3 : These customers visit online for queries at a higher frequency than the other two groups.\n",
        "\n",
        "3. What are your recommendations to the bank on how to better market to and service these customers?\n",
        "\n",
        "\n",
        "  * If the bank wishes to increase their penetration into the csutomer base into a market they should go for Group 2 customers first. There are fairly large number of customers in this group, comprising around 30% of customers with relatively low credit limit. Hence there is a scope of onboarding those customers. \n",
        "\n",
        "      Next they can target customers from group 0, has 60% of the total customers. Also members from these groups visit Bank more frequently than the other two groups. Hence that presents the bank as an oppourtunity to sell additional products.\n",
        "\n",
        "* If the bank wishes to improve service delivery they should focus of improving the query request made through the **Incoming Calls**. They should probabely hire more agents who can resolve the queries of customer. Also by improving on that they may actually upsell to these customers once they are satified have the trust of the customers.\n",
        "\n",
        "Next channel that they should focus on improving is the online channel(chat/email etc) for resolving customer queries. A lot of load may be taken off my implementing CHATBOTS(**like Bank Of America's Erica**) which may actually help in achieving a higher productivity with lesser workforce.\n",
        "\n"
      ]
    },
    {
      "cell_type": "code",
      "metadata": {
        "id": "DlvAXMCLDQb7"
      },
      "source": [
        ""
      ],
      "execution_count": null,
      "outputs": []
    }
  ]
}