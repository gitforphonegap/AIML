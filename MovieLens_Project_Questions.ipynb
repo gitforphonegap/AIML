{
  "nbformat": 4,
  "nbformat_minor": 0,
  "metadata": {
    "kernelspec": {
      "display_name": "Python 3",
      "language": "python",
      "name": "python3"
    },
    "language_info": {
      "codemirror_mode": {
        "name": "ipython",
        "version": 3
      },
      "file_extension": ".py",
      "mimetype": "text/x-python",
      "name": "python",
      "nbconvert_exporter": "python",
      "pygments_lexer": "ipython3",
      "version": "3.7.4"
    },
    "colab": {
      "name": "MovieLens Project Questions.ipynb",
      "provenance": [],
      "collapsed_sections": [],
      "toc_visible": true
    }
  },
  "cells": [
    {
      "cell_type": "markdown",
      "metadata": {
        "id": "hvHE6cnch_EF",
        "colab_type": "text"
      },
      "source": [
        "### Project - MovieLens Data Analysis\n",
        "\n",
        "The GroupLens Research Project is a research group in the Department of Computer Science and Engineering at the University of Minnesota. The data is widely used for collaborative filtering and other filtering solutions. However, we will be using this data to act as a means to demonstrate our skill in using Python to “play” with data.\n",
        "\n",
        "### Datasets Information:\n",
        "\n",
        "- Data.csv: It contains information of ratings given by the users to a particular movie. Columns: user id, movie id, rating, timestamp\n",
        "\n",
        "- item.csv: File contains information related to the movies and its genre.\n",
        "\n",
        "- Columns: movie id, movie title, release date, unknown, Action, Adventure, Animation, Children’s, Comedy, Crime, Documentary, Drama, Fantasy, Film-Noir, Horror, Musical, Mystery, Romance, Sci-Fi, Thriller, War, Western\n",
        "\n",
        "- user.csv: It contains information of the users who have rated the movies. Columns: user id, age, gender, occupation, zip code\n",
        "\n",
        "### Objective:\n",
        "\n",
        "`To implement the techniques learnt as a part of the course.`\n",
        "\n",
        "### Learning Outcomes:\n",
        "- Exploratory Data Analysis\n",
        "\n",
        "- Visualization using Python\n",
        "\n",
        "- Pandas – groupby, merging \n",
        "\n",
        "\n",
        "#### Domain \n",
        "`Internet and Entertainment`\n",
        "\n",
        "**Note that the project will need you to apply the concepts of groupby and merging extensively.**"
      ]
    },
    {
      "cell_type": "code",
      "metadata": {
        "id": "7UZJdYNTh_EG",
        "colab_type": "code",
        "colab": {}
      },
      "source": [
        ""
      ],
      "execution_count": null,
      "outputs": []
    },
    {
      "cell_type": "markdown",
      "metadata": {
        "id": "z7JXz6zch_EK",
        "colab_type": "text"
      },
      "source": [
        "#### 1. Import the necessary packages - 2.5 marks"
      ]
    },
    {
      "cell_type": "code",
      "metadata": {
        "id": "BQLf11Lgh_EL",
        "colab_type": "code",
        "colab": {
          "base_uri": "https://localhost:8080/",
          "height": 71
        },
        "outputId": "f22db917-c606-4328-eae4-db539a6d6c92"
      },
      "source": [
        "import pandas as pd\n",
        "import numpy as np\n",
        "import seaborn as sns   \n",
        "import matplotlib.pyplot as plt \n",
        "sns.set(color_codes=True)\n",
        "sns.set(rc={'figure.figsize':(30,20)})\n",
        "%matplotlib inline "
      ],
      "execution_count": null,
      "outputs": [
        {
          "output_type": "stream",
          "text": [
            "/usr/local/lib/python3.6/dist-packages/statsmodels/tools/_testing.py:19: FutureWarning: pandas.util.testing is deprecated. Use the functions in the public API at pandas.testing instead.\n",
            "  import pandas.util.testing as tm\n"
          ],
          "name": "stderr"
        }
      ]
    },
    {
      "cell_type": "markdown",
      "metadata": {
        "id": "U_WS5GYfh_EQ",
        "colab_type": "text"
      },
      "source": [
        "#### 2. Read the 3 datasets into dataframes - 2.5 marks"
      ]
    },
    {
      "cell_type": "code",
      "metadata": {
        "scrolled": true,
        "id": "QuAQsBarh_EQ",
        "colab_type": "code",
        "colab": {}
      },
      "source": [
        "movieRating_df = pd.read_csv('Data.csv')\n",
        "movieInfo_df = pd.read_csv('item.csv')\n",
        "movieRaters_df = pd.read_csv('user.csv')\n",
        "\n"
      ],
      "execution_count": null,
      "outputs": []
    },
    {
      "cell_type": "markdown",
      "metadata": {
        "id": "Pt8uwn-Th_EU",
        "colab_type": "text"
      },
      "source": [
        "#### 3. Apply info, shape, describe, and find the number of missing values in the data - 5 marks\n",
        " - Note that you will need to do it for all the three datasets seperately"
      ]
    },
    {
      "cell_type": "markdown",
      "metadata": {
        "id": "BN-fLanHtSN2",
        "colab_type": "text"
      },
      "source": [
        "Shape, Info, Description and Total Number of missing values for Movie Rating Information dataset\n",
        "    "
      ]
    },
    {
      "cell_type": "code",
      "metadata": {
        "id": "xJ992OTftRsp",
        "colab_type": "code",
        "colab": {
          "base_uri": "https://localhost:8080/",
          "height": 360
        },
        "outputId": "41515a73-9629-4030-9f5e-454becd32ed5"
      },
      "source": [
        "\n",
        "movieRating_df.info()\n",
        "movieRating_df.describe().T\n"
      ],
      "execution_count": null,
      "outputs": [
        {
          "output_type": "stream",
          "text": [
            "<class 'pandas.core.frame.DataFrame'>\n",
            "RangeIndex: 100000 entries, 0 to 99999\n",
            "Data columns (total 4 columns):\n",
            " #   Column     Non-Null Count   Dtype\n",
            "---  ------     --------------   -----\n",
            " 0   user id    100000 non-null  int64\n",
            " 1   movie id   100000 non-null  int64\n",
            " 2   rating     100000 non-null  int64\n",
            " 3   timestamp  100000 non-null  int64\n",
            "dtypes: int64(4)\n",
            "memory usage: 3.1 MB\n"
          ],
          "name": "stdout"
        },
        {
          "output_type": "execute_result",
          "data": {
            "text/html": [
              "<div>\n",
              "<style scoped>\n",
              "    .dataframe tbody tr th:only-of-type {\n",
              "        vertical-align: middle;\n",
              "    }\n",
              "\n",
              "    .dataframe tbody tr th {\n",
              "        vertical-align: top;\n",
              "    }\n",
              "\n",
              "    .dataframe thead th {\n",
              "        text-align: right;\n",
              "    }\n",
              "</style>\n",
              "<table border=\"1\" class=\"dataframe\">\n",
              "  <thead>\n",
              "    <tr style=\"text-align: right;\">\n",
              "      <th></th>\n",
              "      <th>count</th>\n",
              "      <th>mean</th>\n",
              "      <th>std</th>\n",
              "      <th>min</th>\n",
              "      <th>25%</th>\n",
              "      <th>50%</th>\n",
              "      <th>75%</th>\n",
              "      <th>max</th>\n",
              "    </tr>\n",
              "  </thead>\n",
              "  <tbody>\n",
              "    <tr>\n",
              "      <th>user id</th>\n",
              "      <td>100000.0</td>\n",
              "      <td>4.624848e+02</td>\n",
              "      <td>2.666144e+02</td>\n",
              "      <td>1.0</td>\n",
              "      <td>254.0</td>\n",
              "      <td>447.0</td>\n",
              "      <td>682.0</td>\n",
              "      <td>943.0</td>\n",
              "    </tr>\n",
              "    <tr>\n",
              "      <th>movie id</th>\n",
              "      <td>100000.0</td>\n",
              "      <td>4.255301e+02</td>\n",
              "      <td>3.307984e+02</td>\n",
              "      <td>1.0</td>\n",
              "      <td>175.0</td>\n",
              "      <td>322.0</td>\n",
              "      <td>631.0</td>\n",
              "      <td>1682.0</td>\n",
              "    </tr>\n",
              "    <tr>\n",
              "      <th>rating</th>\n",
              "      <td>100000.0</td>\n",
              "      <td>3.529860e+00</td>\n",
              "      <td>1.125674e+00</td>\n",
              "      <td>1.0</td>\n",
              "      <td>3.0</td>\n",
              "      <td>4.0</td>\n",
              "      <td>4.0</td>\n",
              "      <td>5.0</td>\n",
              "    </tr>\n",
              "    <tr>\n",
              "      <th>timestamp</th>\n",
              "      <td>100000.0</td>\n",
              "      <td>8.835289e+08</td>\n",
              "      <td>5.343856e+06</td>\n",
              "      <td>874724710.0</td>\n",
              "      <td>879448709.5</td>\n",
              "      <td>882826944.0</td>\n",
              "      <td>888259984.0</td>\n",
              "      <td>893286638.0</td>\n",
              "    </tr>\n",
              "  </tbody>\n",
              "</table>\n",
              "</div>"
            ],
            "text/plain": [
              "              count          mean  ...          75%          max\n",
              "user id    100000.0  4.624848e+02  ...        682.0        943.0\n",
              "movie id   100000.0  4.255301e+02  ...        631.0       1682.0\n",
              "rating     100000.0  3.529860e+00  ...          4.0          5.0\n",
              "timestamp  100000.0  8.835289e+08  ...  888259984.0  893286638.0\n",
              "\n",
              "[4 rows x 8 columns]"
            ]
          },
          "metadata": {
            "tags": []
          },
          "execution_count": 3
        }
      ]
    },
    {
      "cell_type": "code",
      "metadata": {
        "id": "aNoIRXM4wcTW",
        "colab_type": "code",
        "colab": {
          "base_uri": "https://localhost:8080/",
          "height": 34
        },
        "outputId": "753a24e7-7b33-4440-a483-33efff23ef5e"
      },
      "source": [
        "movieRating_df.shape"
      ],
      "execution_count": null,
      "outputs": [
        {
          "output_type": "execute_result",
          "data": {
            "text/plain": [
              "(100000, 4)"
            ]
          },
          "metadata": {
            "tags": []
          },
          "execution_count": 44
        }
      ]
    },
    {
      "cell_type": "code",
      "metadata": {
        "id": "cKchZYqUwPyh",
        "colab_type": "code",
        "colab": {
          "base_uri": "https://localhost:8080/",
          "height": 173
        },
        "outputId": "1e3f5f34-bf2d-4fcf-c6d3-d055ea407097"
      },
      "source": [
        "pd.DataFrame( movieRating_df.isnull().sum(), columns= ['Number of missing values'])\n"
      ],
      "execution_count": null,
      "outputs": [
        {
          "output_type": "execute_result",
          "data": {
            "text/html": [
              "<div>\n",
              "<style scoped>\n",
              "    .dataframe tbody tr th:only-of-type {\n",
              "        vertical-align: middle;\n",
              "    }\n",
              "\n",
              "    .dataframe tbody tr th {\n",
              "        vertical-align: top;\n",
              "    }\n",
              "\n",
              "    .dataframe thead th {\n",
              "        text-align: right;\n",
              "    }\n",
              "</style>\n",
              "<table border=\"1\" class=\"dataframe\">\n",
              "  <thead>\n",
              "    <tr style=\"text-align: right;\">\n",
              "      <th></th>\n",
              "      <th>Number of missing values</th>\n",
              "    </tr>\n",
              "  </thead>\n",
              "  <tbody>\n",
              "    <tr>\n",
              "      <th>user id</th>\n",
              "      <td>0</td>\n",
              "    </tr>\n",
              "    <tr>\n",
              "      <th>movie id</th>\n",
              "      <td>0</td>\n",
              "    </tr>\n",
              "    <tr>\n",
              "      <th>rating</th>\n",
              "      <td>0</td>\n",
              "    </tr>\n",
              "    <tr>\n",
              "      <th>timestamp</th>\n",
              "      <td>0</td>\n",
              "    </tr>\n",
              "  </tbody>\n",
              "</table>\n",
              "</div>"
            ],
            "text/plain": [
              "           Number of missing values\n",
              "user id                           0\n",
              "movie id                          0\n",
              "rating                            0\n",
              "timestamp                         0"
            ]
          },
          "metadata": {
            "tags": []
          },
          "execution_count": 46
        }
      ]
    },
    {
      "cell_type": "code",
      "metadata": {
        "id": "5Vm5f2e-wPC1",
        "colab_type": "code",
        "colab": {
          "base_uri": "https://localhost:8080/",
          "height": 34
        },
        "outputId": "868b993c-29c5-4e01-c8d8-56ebce90371d"
      },
      "source": [
        "# Total number of missing values\n",
        "\n",
        "movieRating_df.isnull().sum().sum()"
      ],
      "execution_count": null,
      "outputs": [
        {
          "output_type": "execute_result",
          "data": {
            "text/plain": [
              "0"
            ]
          },
          "metadata": {
            "tags": []
          },
          "execution_count": 50
        }
      ]
    },
    {
      "cell_type": "markdown",
      "metadata": {
        "id": "A0YtrenbtwOv",
        "colab_type": "text"
      },
      "source": [
        "\n",
        "Shape, Info, Description and Total number of null values for Dataset for Movie Information"
      ]
    },
    {
      "cell_type": "code",
      "metadata": {
        "id": "54ldkZK0tvt_",
        "colab_type": "code",
        "colab": {
          "base_uri": "https://localhost:8080/",
          "height": 1000
        },
        "outputId": "7a21e5fb-477d-48e1-ee2f-0b16fadb5d83"
      },
      "source": [
        "\n",
        "movieInfo_df.info()\n",
        "movieInfo_df.describe().T"
      ],
      "execution_count": null,
      "outputs": [
        {
          "output_type": "stream",
          "text": [
            "<class 'pandas.core.frame.DataFrame'>\n",
            "RangeIndex: 1681 entries, 0 to 1680\n",
            "Data columns (total 22 columns):\n",
            " #   Column        Non-Null Count  Dtype \n",
            "---  ------        --------------  ----- \n",
            " 0   movie id      1681 non-null   int64 \n",
            " 1   movie title   1681 non-null   object\n",
            " 2   release date  1681 non-null   object\n",
            " 3   unknown       1681 non-null   int64 \n",
            " 4   Action        1681 non-null   int64 \n",
            " 5   Adventure     1681 non-null   int64 \n",
            " 6   Animation     1681 non-null   int64 \n",
            " 7   Childrens     1681 non-null   int64 \n",
            " 8   Comedy        1681 non-null   int64 \n",
            " 9   Crime         1681 non-null   int64 \n",
            " 10  Documentary   1681 non-null   int64 \n",
            " 11  Drama         1681 non-null   int64 \n",
            " 12  Fantasy       1681 non-null   int64 \n",
            " 13  Film-Noir     1681 non-null   int64 \n",
            " 14  Horror        1681 non-null   int64 \n",
            " 15  Musical       1681 non-null   int64 \n",
            " 16  Mystery       1681 non-null   int64 \n",
            " 17  Romance       1681 non-null   int64 \n",
            " 18  Sci-Fi        1681 non-null   int64 \n",
            " 19  Thriller      1681 non-null   int64 \n",
            " 20  War           1681 non-null   int64 \n",
            " 21  Western       1681 non-null   int64 \n",
            "dtypes: int64(20), object(2)\n",
            "memory usage: 289.0+ KB\n"
          ],
          "name": "stdout"
        },
        {
          "output_type": "execute_result",
          "data": {
            "text/html": [
              "<div>\n",
              "<style scoped>\n",
              "    .dataframe tbody tr th:only-of-type {\n",
              "        vertical-align: middle;\n",
              "    }\n",
              "\n",
              "    .dataframe tbody tr th {\n",
              "        vertical-align: top;\n",
              "    }\n",
              "\n",
              "    .dataframe thead th {\n",
              "        text-align: right;\n",
              "    }\n",
              "</style>\n",
              "<table border=\"1\" class=\"dataframe\">\n",
              "  <thead>\n",
              "    <tr style=\"text-align: right;\">\n",
              "      <th></th>\n",
              "      <th>count</th>\n",
              "      <th>mean</th>\n",
              "      <th>std</th>\n",
              "      <th>min</th>\n",
              "      <th>25%</th>\n",
              "      <th>50%</th>\n",
              "      <th>75%</th>\n",
              "      <th>max</th>\n",
              "    </tr>\n",
              "  </thead>\n",
              "  <tbody>\n",
              "    <tr>\n",
              "      <th>movie id</th>\n",
              "      <td>1681.0</td>\n",
              "      <td>841.841761</td>\n",
              "      <td>485.638077</td>\n",
              "      <td>1.0</td>\n",
              "      <td>422.0</td>\n",
              "      <td>842.0</td>\n",
              "      <td>1262.0</td>\n",
              "      <td>1682.0</td>\n",
              "    </tr>\n",
              "    <tr>\n",
              "      <th>unknown</th>\n",
              "      <td>1681.0</td>\n",
              "      <td>0.000595</td>\n",
              "      <td>0.024390</td>\n",
              "      <td>0.0</td>\n",
              "      <td>0.0</td>\n",
              "      <td>0.0</td>\n",
              "      <td>0.0</td>\n",
              "      <td>1.0</td>\n",
              "    </tr>\n",
              "    <tr>\n",
              "      <th>Action</th>\n",
              "      <td>1681.0</td>\n",
              "      <td>0.149316</td>\n",
              "      <td>0.356506</td>\n",
              "      <td>0.0</td>\n",
              "      <td>0.0</td>\n",
              "      <td>0.0</td>\n",
              "      <td>0.0</td>\n",
              "      <td>1.0</td>\n",
              "    </tr>\n",
              "    <tr>\n",
              "      <th>Adventure</th>\n",
              "      <td>1681.0</td>\n",
              "      <td>0.080309</td>\n",
              "      <td>0.271852</td>\n",
              "      <td>0.0</td>\n",
              "      <td>0.0</td>\n",
              "      <td>0.0</td>\n",
              "      <td>0.0</td>\n",
              "      <td>1.0</td>\n",
              "    </tr>\n",
              "    <tr>\n",
              "      <th>Animation</th>\n",
              "      <td>1681.0</td>\n",
              "      <td>0.024985</td>\n",
              "      <td>0.156126</td>\n",
              "      <td>0.0</td>\n",
              "      <td>0.0</td>\n",
              "      <td>0.0</td>\n",
              "      <td>0.0</td>\n",
              "      <td>1.0</td>\n",
              "    </tr>\n",
              "    <tr>\n",
              "      <th>Childrens</th>\n",
              "      <td>1681.0</td>\n",
              "      <td>0.072576</td>\n",
              "      <td>0.259516</td>\n",
              "      <td>0.0</td>\n",
              "      <td>0.0</td>\n",
              "      <td>0.0</td>\n",
              "      <td>0.0</td>\n",
              "      <td>1.0</td>\n",
              "    </tr>\n",
              "    <tr>\n",
              "      <th>Comedy</th>\n",
              "      <td>1681.0</td>\n",
              "      <td>0.300416</td>\n",
              "      <td>0.458576</td>\n",
              "      <td>0.0</td>\n",
              "      <td>0.0</td>\n",
              "      <td>0.0</td>\n",
              "      <td>1.0</td>\n",
              "      <td>1.0</td>\n",
              "    </tr>\n",
              "    <tr>\n",
              "      <th>Crime</th>\n",
              "      <td>1681.0</td>\n",
              "      <td>0.064842</td>\n",
              "      <td>0.246321</td>\n",
              "      <td>0.0</td>\n",
              "      <td>0.0</td>\n",
              "      <td>0.0</td>\n",
              "      <td>0.0</td>\n",
              "      <td>1.0</td>\n",
              "    </tr>\n",
              "    <tr>\n",
              "      <th>Documentary</th>\n",
              "      <td>1681.0</td>\n",
              "      <td>0.029744</td>\n",
              "      <td>0.169931</td>\n",
              "      <td>0.0</td>\n",
              "      <td>0.0</td>\n",
              "      <td>0.0</td>\n",
              "      <td>0.0</td>\n",
              "      <td>1.0</td>\n",
              "    </tr>\n",
              "    <tr>\n",
              "      <th>Drama</th>\n",
              "      <td>1681.0</td>\n",
              "      <td>0.431291</td>\n",
              "      <td>0.495404</td>\n",
              "      <td>0.0</td>\n",
              "      <td>0.0</td>\n",
              "      <td>0.0</td>\n",
              "      <td>1.0</td>\n",
              "      <td>1.0</td>\n",
              "    </tr>\n",
              "    <tr>\n",
              "      <th>Fantasy</th>\n",
              "      <td>1681.0</td>\n",
              "      <td>0.013087</td>\n",
              "      <td>0.113683</td>\n",
              "      <td>0.0</td>\n",
              "      <td>0.0</td>\n",
              "      <td>0.0</td>\n",
              "      <td>0.0</td>\n",
              "      <td>1.0</td>\n",
              "    </tr>\n",
              "    <tr>\n",
              "      <th>Film-Noir</th>\n",
              "      <td>1681.0</td>\n",
              "      <td>0.014277</td>\n",
              "      <td>0.118667</td>\n",
              "      <td>0.0</td>\n",
              "      <td>0.0</td>\n",
              "      <td>0.0</td>\n",
              "      <td>0.0</td>\n",
              "      <td>1.0</td>\n",
              "    </tr>\n",
              "    <tr>\n",
              "      <th>Horror</th>\n",
              "      <td>1681.0</td>\n",
              "      <td>0.054729</td>\n",
              "      <td>0.227519</td>\n",
              "      <td>0.0</td>\n",
              "      <td>0.0</td>\n",
              "      <td>0.0</td>\n",
              "      <td>0.0</td>\n",
              "      <td>1.0</td>\n",
              "    </tr>\n",
              "    <tr>\n",
              "      <th>Musical</th>\n",
              "      <td>1681.0</td>\n",
              "      <td>0.033314</td>\n",
              "      <td>0.179507</td>\n",
              "      <td>0.0</td>\n",
              "      <td>0.0</td>\n",
              "      <td>0.0</td>\n",
              "      <td>0.0</td>\n",
              "      <td>1.0</td>\n",
              "    </tr>\n",
              "    <tr>\n",
              "      <th>Mystery</th>\n",
              "      <td>1681.0</td>\n",
              "      <td>0.036288</td>\n",
              "      <td>0.187061</td>\n",
              "      <td>0.0</td>\n",
              "      <td>0.0</td>\n",
              "      <td>0.0</td>\n",
              "      <td>0.0</td>\n",
              "      <td>1.0</td>\n",
              "    </tr>\n",
              "    <tr>\n",
              "      <th>Romance</th>\n",
              "      <td>1681.0</td>\n",
              "      <td>0.146936</td>\n",
              "      <td>0.354148</td>\n",
              "      <td>0.0</td>\n",
              "      <td>0.0</td>\n",
              "      <td>0.0</td>\n",
              "      <td>0.0</td>\n",
              "      <td>1.0</td>\n",
              "    </tr>\n",
              "    <tr>\n",
              "      <th>Sci-Fi</th>\n",
              "      <td>1681.0</td>\n",
              "      <td>0.060083</td>\n",
              "      <td>0.237712</td>\n",
              "      <td>0.0</td>\n",
              "      <td>0.0</td>\n",
              "      <td>0.0</td>\n",
              "      <td>0.0</td>\n",
              "      <td>1.0</td>\n",
              "    </tr>\n",
              "    <tr>\n",
              "      <th>Thriller</th>\n",
              "      <td>1681.0</td>\n",
              "      <td>0.149316</td>\n",
              "      <td>0.356506</td>\n",
              "      <td>0.0</td>\n",
              "      <td>0.0</td>\n",
              "      <td>0.0</td>\n",
              "      <td>0.0</td>\n",
              "      <td>1.0</td>\n",
              "    </tr>\n",
              "    <tr>\n",
              "      <th>War</th>\n",
              "      <td>1681.0</td>\n",
              "      <td>0.042237</td>\n",
              "      <td>0.201189</td>\n",
              "      <td>0.0</td>\n",
              "      <td>0.0</td>\n",
              "      <td>0.0</td>\n",
              "      <td>0.0</td>\n",
              "      <td>1.0</td>\n",
              "    </tr>\n",
              "    <tr>\n",
              "      <th>Western</th>\n",
              "      <td>1681.0</td>\n",
              "      <td>0.016062</td>\n",
              "      <td>0.125751</td>\n",
              "      <td>0.0</td>\n",
              "      <td>0.0</td>\n",
              "      <td>0.0</td>\n",
              "      <td>0.0</td>\n",
              "      <td>1.0</td>\n",
              "    </tr>\n",
              "  </tbody>\n",
              "</table>\n",
              "</div>"
            ],
            "text/plain": [
              "              count        mean         std  min    25%    50%     75%     max\n",
              "movie id     1681.0  841.841761  485.638077  1.0  422.0  842.0  1262.0  1682.0\n",
              "unknown      1681.0    0.000595    0.024390  0.0    0.0    0.0     0.0     1.0\n",
              "Action       1681.0    0.149316    0.356506  0.0    0.0    0.0     0.0     1.0\n",
              "Adventure    1681.0    0.080309    0.271852  0.0    0.0    0.0     0.0     1.0\n",
              "Animation    1681.0    0.024985    0.156126  0.0    0.0    0.0     0.0     1.0\n",
              "Childrens    1681.0    0.072576    0.259516  0.0    0.0    0.0     0.0     1.0\n",
              "Comedy       1681.0    0.300416    0.458576  0.0    0.0    0.0     1.0     1.0\n",
              "Crime        1681.0    0.064842    0.246321  0.0    0.0    0.0     0.0     1.0\n",
              "Documentary  1681.0    0.029744    0.169931  0.0    0.0    0.0     0.0     1.0\n",
              "Drama        1681.0    0.431291    0.495404  0.0    0.0    0.0     1.0     1.0\n",
              "Fantasy      1681.0    0.013087    0.113683  0.0    0.0    0.0     0.0     1.0\n",
              "Film-Noir    1681.0    0.014277    0.118667  0.0    0.0    0.0     0.0     1.0\n",
              "Horror       1681.0    0.054729    0.227519  0.0    0.0    0.0     0.0     1.0\n",
              "Musical      1681.0    0.033314    0.179507  0.0    0.0    0.0     0.0     1.0\n",
              "Mystery      1681.0    0.036288    0.187061  0.0    0.0    0.0     0.0     1.0\n",
              "Romance      1681.0    0.146936    0.354148  0.0    0.0    0.0     0.0     1.0\n",
              "Sci-Fi       1681.0    0.060083    0.237712  0.0    0.0    0.0     0.0     1.0\n",
              "Thriller     1681.0    0.149316    0.356506  0.0    0.0    0.0     0.0     1.0\n",
              "War          1681.0    0.042237    0.201189  0.0    0.0    0.0     0.0     1.0\n",
              "Western      1681.0    0.016062    0.125751  0.0    0.0    0.0     0.0     1.0"
            ]
          },
          "metadata": {
            "tags": []
          },
          "execution_count": 38
        }
      ]
    },
    {
      "cell_type": "code",
      "metadata": {
        "id": "CHzw8V36w28F",
        "colab_type": "code",
        "colab": {
          "base_uri": "https://localhost:8080/",
          "height": 34
        },
        "outputId": "534f95f1-a0a1-4a31-eafb-6705a23829c4"
      },
      "source": [
        "movieInfo_df.shape"
      ],
      "execution_count": null,
      "outputs": [
        {
          "output_type": "execute_result",
          "data": {
            "text/plain": [
              "(1681, 22)"
            ]
          },
          "metadata": {
            "tags": []
          },
          "execution_count": 48
        }
      ]
    },
    {
      "cell_type": "code",
      "metadata": {
        "id": "66Bq_kS0w2xr",
        "colab_type": "code",
        "colab": {
          "base_uri": "https://localhost:8080/",
          "height": 731
        },
        "outputId": "a8aa8da6-617e-461e-9cd6-2da45c01145c"
      },
      "source": [
        "pd.DataFrame( movieInfo_df.isnull().sum(), columns= ['Number of missing values'])"
      ],
      "execution_count": null,
      "outputs": [
        {
          "output_type": "execute_result",
          "data": {
            "text/html": [
              "<div>\n",
              "<style scoped>\n",
              "    .dataframe tbody tr th:only-of-type {\n",
              "        vertical-align: middle;\n",
              "    }\n",
              "\n",
              "    .dataframe tbody tr th {\n",
              "        vertical-align: top;\n",
              "    }\n",
              "\n",
              "    .dataframe thead th {\n",
              "        text-align: right;\n",
              "    }\n",
              "</style>\n",
              "<table border=\"1\" class=\"dataframe\">\n",
              "  <thead>\n",
              "    <tr style=\"text-align: right;\">\n",
              "      <th></th>\n",
              "      <th>Number of missing values</th>\n",
              "    </tr>\n",
              "  </thead>\n",
              "  <tbody>\n",
              "    <tr>\n",
              "      <th>movie id</th>\n",
              "      <td>0</td>\n",
              "    </tr>\n",
              "    <tr>\n",
              "      <th>movie title</th>\n",
              "      <td>0</td>\n",
              "    </tr>\n",
              "    <tr>\n",
              "      <th>release date</th>\n",
              "      <td>0</td>\n",
              "    </tr>\n",
              "    <tr>\n",
              "      <th>unknown</th>\n",
              "      <td>0</td>\n",
              "    </tr>\n",
              "    <tr>\n",
              "      <th>Action</th>\n",
              "      <td>0</td>\n",
              "    </tr>\n",
              "    <tr>\n",
              "      <th>Adventure</th>\n",
              "      <td>0</td>\n",
              "    </tr>\n",
              "    <tr>\n",
              "      <th>Animation</th>\n",
              "      <td>0</td>\n",
              "    </tr>\n",
              "    <tr>\n",
              "      <th>Childrens</th>\n",
              "      <td>0</td>\n",
              "    </tr>\n",
              "    <tr>\n",
              "      <th>Comedy</th>\n",
              "      <td>0</td>\n",
              "    </tr>\n",
              "    <tr>\n",
              "      <th>Crime</th>\n",
              "      <td>0</td>\n",
              "    </tr>\n",
              "    <tr>\n",
              "      <th>Documentary</th>\n",
              "      <td>0</td>\n",
              "    </tr>\n",
              "    <tr>\n",
              "      <th>Drama</th>\n",
              "      <td>0</td>\n",
              "    </tr>\n",
              "    <tr>\n",
              "      <th>Fantasy</th>\n",
              "      <td>0</td>\n",
              "    </tr>\n",
              "    <tr>\n",
              "      <th>Film-Noir</th>\n",
              "      <td>0</td>\n",
              "    </tr>\n",
              "    <tr>\n",
              "      <th>Horror</th>\n",
              "      <td>0</td>\n",
              "    </tr>\n",
              "    <tr>\n",
              "      <th>Musical</th>\n",
              "      <td>0</td>\n",
              "    </tr>\n",
              "    <tr>\n",
              "      <th>Mystery</th>\n",
              "      <td>0</td>\n",
              "    </tr>\n",
              "    <tr>\n",
              "      <th>Romance</th>\n",
              "      <td>0</td>\n",
              "    </tr>\n",
              "    <tr>\n",
              "      <th>Sci-Fi</th>\n",
              "      <td>0</td>\n",
              "    </tr>\n",
              "    <tr>\n",
              "      <th>Thriller</th>\n",
              "      <td>0</td>\n",
              "    </tr>\n",
              "    <tr>\n",
              "      <th>War</th>\n",
              "      <td>0</td>\n",
              "    </tr>\n",
              "    <tr>\n",
              "      <th>Western</th>\n",
              "      <td>0</td>\n",
              "    </tr>\n",
              "  </tbody>\n",
              "</table>\n",
              "</div>"
            ],
            "text/plain": [
              "              Number of missing values\n",
              "movie id                             0\n",
              "movie title                          0\n",
              "release date                         0\n",
              "unknown                              0\n",
              "Action                               0\n",
              "Adventure                            0\n",
              "Animation                            0\n",
              "Childrens                            0\n",
              "Comedy                               0\n",
              "Crime                                0\n",
              "Documentary                          0\n",
              "Drama                                0\n",
              "Fantasy                              0\n",
              "Film-Noir                            0\n",
              "Horror                               0\n",
              "Musical                              0\n",
              "Mystery                              0\n",
              "Romance                              0\n",
              "Sci-Fi                               0\n",
              "Thriller                             0\n",
              "War                                  0\n",
              "Western                              0"
            ]
          },
          "metadata": {
            "tags": []
          },
          "execution_count": 52
        }
      ]
    },
    {
      "cell_type": "code",
      "metadata": {
        "id": "tpKAw8j5w2jm",
        "colab_type": "code",
        "colab": {
          "base_uri": "https://localhost:8080/",
          "height": 34
        },
        "outputId": "75de0d86-16ca-4148-cddd-c2135d1f0911"
      },
      "source": [
        "# Total number of missing values\n",
        "\n",
        "movieInfo_df.isnull().sum().sum()"
      ],
      "execution_count": null,
      "outputs": [
        {
          "output_type": "execute_result",
          "data": {
            "text/plain": [
              "0"
            ]
          },
          "metadata": {
            "tags": []
          },
          "execution_count": 51
        }
      ]
    },
    {
      "cell_type": "markdown",
      "metadata": {
        "id": "2qKbuYNqyuQC",
        "colab_type": "text"
      },
      "source": [
        "Shape, Info, Description and Total number of null values for Movie Raters Dataset"
      ]
    },
    {
      "cell_type": "code",
      "metadata": {
        "id": "9S1GkvKLyw_R",
        "colab_type": "code",
        "colab": {
          "base_uri": "https://localhost:8080/",
          "height": 315
        },
        "outputId": "f4fc6e22-89dc-4684-c640-414a24b9de05"
      },
      "source": [
        "movieRaters_df.info()\n",
        "movieRaters_df.describe().T"
      ],
      "execution_count": null,
      "outputs": [
        {
          "output_type": "stream",
          "text": [
            "<class 'pandas.core.frame.DataFrame'>\n",
            "RangeIndex: 943 entries, 0 to 942\n",
            "Data columns (total 5 columns):\n",
            " #   Column      Non-Null Count  Dtype \n",
            "---  ------      --------------  ----- \n",
            " 0   user id     943 non-null    int64 \n",
            " 1   age         943 non-null    int64 \n",
            " 2   gender      943 non-null    object\n",
            " 3   occupation  943 non-null    object\n",
            " 4   zip code    943 non-null    object\n",
            "dtypes: int64(2), object(3)\n",
            "memory usage: 37.0+ KB\n"
          ],
          "name": "stdout"
        },
        {
          "output_type": "execute_result",
          "data": {
            "text/html": [
              "<div>\n",
              "<style scoped>\n",
              "    .dataframe tbody tr th:only-of-type {\n",
              "        vertical-align: middle;\n",
              "    }\n",
              "\n",
              "    .dataframe tbody tr th {\n",
              "        vertical-align: top;\n",
              "    }\n",
              "\n",
              "    .dataframe thead th {\n",
              "        text-align: right;\n",
              "    }\n",
              "</style>\n",
              "<table border=\"1\" class=\"dataframe\">\n",
              "  <thead>\n",
              "    <tr style=\"text-align: right;\">\n",
              "      <th></th>\n",
              "      <th>count</th>\n",
              "      <th>mean</th>\n",
              "      <th>std</th>\n",
              "      <th>min</th>\n",
              "      <th>25%</th>\n",
              "      <th>50%</th>\n",
              "      <th>75%</th>\n",
              "      <th>max</th>\n",
              "    </tr>\n",
              "  </thead>\n",
              "  <tbody>\n",
              "    <tr>\n",
              "      <th>user id</th>\n",
              "      <td>943.0</td>\n",
              "      <td>472.000000</td>\n",
              "      <td>272.364951</td>\n",
              "      <td>1.0</td>\n",
              "      <td>236.5</td>\n",
              "      <td>472.0</td>\n",
              "      <td>707.5</td>\n",
              "      <td>943.0</td>\n",
              "    </tr>\n",
              "    <tr>\n",
              "      <th>age</th>\n",
              "      <td>943.0</td>\n",
              "      <td>34.051962</td>\n",
              "      <td>12.192740</td>\n",
              "      <td>7.0</td>\n",
              "      <td>25.0</td>\n",
              "      <td>31.0</td>\n",
              "      <td>43.0</td>\n",
              "      <td>73.0</td>\n",
              "    </tr>\n",
              "  </tbody>\n",
              "</table>\n",
              "</div>"
            ],
            "text/plain": [
              "         count        mean         std  min    25%    50%    75%    max\n",
              "user id  943.0  472.000000  272.364951  1.0  236.5  472.0  707.5  943.0\n",
              "age      943.0   34.051962   12.192740  7.0   25.0   31.0   43.0   73.0"
            ]
          },
          "metadata": {
            "tags": []
          },
          "execution_count": 56
        }
      ]
    },
    {
      "cell_type": "code",
      "metadata": {
        "id": "DVofrDNBywEQ",
        "colab_type": "code",
        "colab": {
          "base_uri": "https://localhost:8080/",
          "height": 34
        },
        "outputId": "4a0dcb69-8be4-4da7-c8d5-13fc0887487e"
      },
      "source": [
        "\n",
        "movieRaters_df.shape"
      ],
      "execution_count": null,
      "outputs": [
        {
          "output_type": "execute_result",
          "data": {
            "text/plain": [
              "(943, 5)"
            ]
          },
          "metadata": {
            "tags": []
          },
          "execution_count": 57
        }
      ]
    },
    {
      "cell_type": "code",
      "metadata": {
        "id": "X7iUhvaYyv3K",
        "colab_type": "code",
        "colab": {
          "base_uri": "https://localhost:8080/",
          "height": 204
        },
        "outputId": "71abb31e-a7e5-452b-b083-4583928ef4ed"
      },
      "source": [
        "pd.DataFrame( movieRaters_df.isnull().sum(), columns= ['Number of missing values'])"
      ],
      "execution_count": null,
      "outputs": [
        {
          "output_type": "execute_result",
          "data": {
            "text/html": [
              "<div>\n",
              "<style scoped>\n",
              "    .dataframe tbody tr th:only-of-type {\n",
              "        vertical-align: middle;\n",
              "    }\n",
              "\n",
              "    .dataframe tbody tr th {\n",
              "        vertical-align: top;\n",
              "    }\n",
              "\n",
              "    .dataframe thead th {\n",
              "        text-align: right;\n",
              "    }\n",
              "</style>\n",
              "<table border=\"1\" class=\"dataframe\">\n",
              "  <thead>\n",
              "    <tr style=\"text-align: right;\">\n",
              "      <th></th>\n",
              "      <th>Number of missing values</th>\n",
              "    </tr>\n",
              "  </thead>\n",
              "  <tbody>\n",
              "    <tr>\n",
              "      <th>user id</th>\n",
              "      <td>0</td>\n",
              "    </tr>\n",
              "    <tr>\n",
              "      <th>age</th>\n",
              "      <td>0</td>\n",
              "    </tr>\n",
              "    <tr>\n",
              "      <th>gender</th>\n",
              "      <td>0</td>\n",
              "    </tr>\n",
              "    <tr>\n",
              "      <th>occupation</th>\n",
              "      <td>0</td>\n",
              "    </tr>\n",
              "    <tr>\n",
              "      <th>zip code</th>\n",
              "      <td>0</td>\n",
              "    </tr>\n",
              "  </tbody>\n",
              "</table>\n",
              "</div>"
            ],
            "text/plain": [
              "            Number of missing values\n",
              "user id                            0\n",
              "age                                0\n",
              "gender                             0\n",
              "occupation                         0\n",
              "zip code                           0"
            ]
          },
          "metadata": {
            "tags": []
          },
          "execution_count": 58
        }
      ]
    },
    {
      "cell_type": "code",
      "metadata": {
        "id": "KzOyFJk7yvZK",
        "colab_type": "code",
        "colab": {
          "base_uri": "https://localhost:8080/",
          "height": 34
        },
        "outputId": "dc06a967-b745-4344-aa01-e21f215085e0"
      },
      "source": [
        "\n",
        "movieRaters_df.isnull().sum().sum()"
      ],
      "execution_count": null,
      "outputs": [
        {
          "output_type": "execute_result",
          "data": {
            "text/plain": [
              "0"
            ]
          },
          "metadata": {
            "tags": []
          },
          "execution_count": 59
        }
      ]
    },
    {
      "cell_type": "markdown",
      "metadata": {
        "id": "VMJsXyl_h_Eb",
        "colab_type": "text"
      },
      "source": [
        "#### 4. Find the number of movies per genre using the item data - 2.5 marks"
      ]
    },
    {
      "cell_type": "code",
      "metadata": {
        "scrolled": true,
        "id": "bunYIZrvh_Ec",
        "colab_type": "code",
        "colab": {
          "base_uri": "https://localhost:8080/",
          "height": 408
        },
        "outputId": "245134fe-d5f3-43dd-cf70-f1fcdbc2e3f2"
      },
      "source": [
        "#movieInfo_df.head()\n",
        "\n",
        "movieInfo_df.sum()\n",
        "\n",
        "#print('Total movies in genre Action =' , np.sum(movieInfo_df['Action']))\n",
        "#print('Total movies in genre Adventure =' , np.sum(movieInfo_df['Adventure']))\n",
        "#print('Total movies in genre Animation =' , np.sum(movieInfo_df['Animation']))\n",
        "#print('Total movies in genre Childrens =' , np.sum(movieInfo_df['Childrens']))\n"
      ],
      "execution_count": null,
      "outputs": [
        {
          "output_type": "execute_result",
          "data": {
            "text/plain": [
              "movie id                                                  1415136\n",
              "movie title     Toy Story GoldenEye Four Rooms Get Shorty Copy...\n",
              "release date    01-Jan-199501-Jan-199501-Jan-199501-Jan-199501...\n",
              "unknown                                                         1\n",
              "Action                                                        251\n",
              "Adventure                                                     135\n",
              "Animation                                                      42\n",
              "Childrens                                                     122\n",
              "Comedy                                                        505\n",
              "Crime                                                         109\n",
              "Documentary                                                    50\n",
              "Drama                                                         725\n",
              "Fantasy                                                        22\n",
              "Film-Noir                                                      24\n",
              "Horror                                                         92\n",
              "Musical                                                        56\n",
              "Mystery                                                        61\n",
              "Romance                                                       247\n",
              "Sci-Fi                                                        101\n",
              "Thriller                                                      251\n",
              "War                                                            71\n",
              "Western                                                        27\n",
              "dtype: object"
            ]
          },
          "metadata": {
            "tags": []
          },
          "execution_count": 72
        }
      ]
    },
    {
      "cell_type": "markdown",
      "metadata": {
        "id": "61h0vYEah_Eh",
        "colab_type": "text"
      },
      "source": [
        "#### 5. Find the movies that have more than one genre - 5 marks"
      ]
    },
    {
      "cell_type": "code",
      "metadata": {
        "id": "uKINa-eph_Ei",
        "colab_type": "code",
        "colab": {
          "base_uri": "https://localhost:8080/",
          "height": 340
        },
        "outputId": "439f182a-08b9-4f77-82df-f0af255d6da3"
      },
      "source": [
        "#movieInfo_df[movieInfo_df.sum(axis=1) > 1]\n",
        "columns_to_sum = movieInfo_df.columns[-(movieInfo_df.shape[1]-3):-1]\n",
        "\n",
        "print(columns_to_sum)\n",
        "\n",
        "movieInfo_df['Total Genre'] = movieInfo_df[columns_to_sum].sum(axis=1)\n",
        "\n",
        "movieInfoMoreThanOneGenere_df = movieInfo_df[movieInfo_df['Total Genre'] > 1]\n",
        "\n",
        "print(movieInfoMoreThanOneGenere_df)\n",
        "\n",
        "#hint: use sum on the axis = 1"
      ],
      "execution_count": null,
      "outputs": [
        {
          "output_type": "stream",
          "text": [
            "Index(['unknown', 'Action', 'Adventure', 'Animation', 'Childrens', 'Comedy',\n",
            "       'Crime', 'Documentary', 'Drama', 'Fantasy', 'Film-Noir', 'Horror',\n",
            "       'Musical', 'Mystery', 'Romance', 'Sci-Fi', 'Thriller', 'War',\n",
            "       'Western'],\n",
            "      dtype='object')\n",
            "      movie id         movie title release date  ...  War  Western  Total Genre\n",
            "0            1          Toy Story   01-Jan-1995  ...    0        0            3\n",
            "1            2          GoldenEye   01-Jan-1995  ...    0        0            3\n",
            "3            4         Get Shorty   01-Jan-1995  ...    0        0            3\n",
            "4            5            Copycat   01-Jan-1995  ...    0        0            3\n",
            "6            7     Twelve Monkeys   01-Jan-1995  ...    0        0            2\n",
            "...        ...                 ...          ...  ...  ...      ...          ...\n",
            "1667      1669  MURDER and murder   20-Jun-1997  ...    0        0            3\n",
            "1668      1670            Tainted   01-Feb-1998  ...    0        0            2\n",
            "1671      1673             Mirage   01-Jan-1995  ...    0        0            2\n",
            "1677      1679          B. Monkey   06-Feb-1998  ...    0        0            2\n",
            "1678      1680      Sliding Doors   01-Jan-1998  ...    0        0            2\n",
            "\n",
            "[849 rows x 23 columns]\n"
          ],
          "name": "stdout"
        }
      ]
    },
    {
      "cell_type": "markdown",
      "metadata": {
        "id": "SjhrRtIbh_Eo",
        "colab_type": "text"
      },
      "source": [
        "#### 6. Drop the movie where the genre is unknown - 2.5 marks"
      ]
    },
    {
      "cell_type": "code",
      "metadata": {
        "id": "-cqBQgDvh_Ep",
        "colab_type": "code",
        "colab": {
          "base_uri": "https://localhost:8080/",
          "height": 51
        },
        "outputId": "f7908478-9468-4d41-f242-3666dc6e7bf3"
      },
      "source": [
        "indexNames = movieInfo_df[movieInfo_df['unknown'] == 1].index\n",
        "\n",
        "print(indexNames)\n",
        "\n",
        "movieInfo_df.drop(indexNames , inplace=True)\n",
        "\n",
        "movieInfo_df.shape"
      ],
      "execution_count": null,
      "outputs": [
        {
          "output_type": "stream",
          "text": [
            "Int64Index([1371], dtype='int64')\n"
          ],
          "name": "stdout"
        },
        {
          "output_type": "execute_result",
          "data": {
            "text/plain": [
              "(1680, 23)"
            ]
          },
          "metadata": {
            "tags": []
          },
          "execution_count": 17
        }
      ]
    },
    {
      "cell_type": "markdown",
      "metadata": {
        "id": "1oai5ll5h_Es",
        "colab_type": "text"
      },
      "source": [
        "### 7. Univariate plots of columns: 'rating', 'Age', 'release year', 'Gender' and 'Occupation' - 10 marks"
      ]
    },
    {
      "cell_type": "code",
      "metadata": {
        "id": "izVeVDVOh_Et",
        "colab_type": "code",
        "colab": {}
      },
      "source": [
        "# HINT: use distplot for age and countplot for gender,ratings,occupation, release year.\n",
        "# HINT: Please refer to the below snippet to understand how to get to release year from release date. You can use str.split()\n",
        "# as depicted below."
      ],
      "execution_count": null,
      "outputs": []
    },
    {
      "cell_type": "code",
      "metadata": {
        "id": "t5VEDdut4Ru2",
        "colab_type": "code",
        "colab": {
          "base_uri": "https://localhost:8080/",
          "height": 302
        },
        "outputId": "87b97297-de9b-4e57-a214-f6d2b128b731"
      },
      "source": [
        "# Distplot for Age\n",
        "\n",
        "sns.distplot(movieRaters_df['age'])\n",
        "\n"
      ],
      "execution_count": null,
      "outputs": [
        {
          "output_type": "execute_result",
          "data": {
            "text/plain": [
              "<matplotlib.axes._subplots.AxesSubplot at 0x7f695565bd30>"
            ]
          },
          "metadata": {
            "tags": []
          },
          "execution_count": 25
        },
        {
          "output_type": "display_data",
          "data": {
            "image/png": "[encoded data removed]",
            "text/plain": [
              "<Figure size 432x288 with 1 Axes>"
            ]
          },
          "metadata": {
            "tags": [],
            "needs_background": "light"
          }
        }
      ]
    },
    {
      "cell_type": "code",
      "metadata": {
        "id": "arS6eVh9AJYh",
        "colab_type": "code",
        "colab": {
          "base_uri": "https://localhost:8080/",
          "height": 634
        },
        "outputId": "3f9ce9bb-5bcf-4725-f8c8-d344f14fb76c"
      },
      "source": [
        "movieInfo_df['year'] = pd.DatetimeIndex(movieInfo_df['release date']).year\n",
        "\n",
        "sns.countplot(movieInfo_df['year']);\n",
        "\n",
        "\n"
      ],
      "execution_count": null,
      "outputs": [
        {
          "output_type": "display_data",
          "data": {
            "image/png": "[encoded data removed]",
            "text/plain": [
              "<Figure size 2160x1440 with 1 Axes>"
            ]
          },
          "metadata": {
            "tags": []
          }
        }
      ]
    },
    {
      "cell_type": "code",
      "metadata": {
        "id": "066S79E1vGGK",
        "colab_type": "code",
        "colab": {
          "base_uri": "https://localhost:8080/",
          "height": 288
        },
        "outputId": "5d87ad31-3542-4601-dcd3-0e5fc139f3ef"
      },
      "source": [
        "sns.countplot(movieRating_df['gender']);"
      ],
      "execution_count": null,
      "outputs": [
        {
          "output_type": "display_data",
          "data": {
            "image/png": "[encoded data removed]",
            "text/plain": [
              "<Figure size 432x288 with 1 Axes>"
            ]
          },
          "metadata": {
            "tags": [],
            "needs_background": "light"
          }
        }
      ]
    },
    {
      "cell_type": "code",
      "metadata": {
        "id": "w1e2GbBMwWXi",
        "colab_type": "code",
        "colab": {
          "base_uri": "https://localhost:8080/",
          "height": 285
        },
        "outputId": "7e236138-9909-4235-cb34-3a77a362fb8c"
      },
      "source": [
        "sns.countplot(movieRating_df['rating']);"
      ],
      "execution_count": null,
      "outputs": [
        {
          "output_type": "display_data",
          "data": {
            "image/png": "[encoded data removed]",
            "text/plain": [
              "<Figure size 432x288 with 1 Axes>"
            ]
          },
          "metadata": {
            "tags": [],
            "needs_background": "light"
          }
        }
      ]
    },
    {
      "cell_type": "code",
      "metadata": {
        "id": "Gw0CP2Z6xDFD",
        "colab_type": "code",
        "colab": {
          "base_uri": "https://localhost:8080/",
          "height": 636
        },
        "outputId": "e1ff124c-09a7-4e05-88ea-e944404d42e4"
      },
      "source": [
        "\n",
        "\n",
        "sns.countplot(movieRaters_df['occupation']);"
      ],
      "execution_count": null,
      "outputs": [
        {
          "output_type": "display_data",
          "data": {
            "image/png": "[encoded data removed]",
            "text/plain": [
              "<Figure size 2160x1440 with 1 Axes>"
            ]
          },
          "metadata": {
            "tags": []
          }
        }
      ]
    },
    {
      "cell_type": "code",
      "metadata": {
        "id": "6Ud4vDwAh_Ew",
        "colab_type": "code",
        "colab": {}
      },
      "source": [
        "a = 'My*cat*is*brown'\n",
        "print(a.split('*')[3])\n",
        "\n",
        "#similarly, the release year needs to be taken out from release date\n",
        "\n",
        "#also you can simply slice existing string to get the desired data, if we want to take out the colour of the cat\n",
        "\n",
        "print(a[10:])\n",
        "print(a[-5:])"
      ],
      "execution_count": null,
      "outputs": []
    },
    {
      "cell_type": "code",
      "metadata": {
        "id": "v7-8QU47h_E0",
        "colab_type": "code",
        "colab": {}
      },
      "source": [
        "#your answers here"
      ],
      "execution_count": null,
      "outputs": []
    },
    {
      "cell_type": "markdown",
      "metadata": {
        "id": "5HdMGr6Yh_E4",
        "colab_type": "text"
      },
      "source": [
        "### 8. Visualize how popularity of genres has changed over the years - 10 marks\n",
        "\n",
        "Note that you need to use the number of releases in a year as a parameter of popularity of a genre"
      ]
    },
    {
      "cell_type": "markdown",
      "metadata": {
        "id": "xVZgjnU3h_E5",
        "colab_type": "text"
      },
      "source": [
        "Hint \n",
        "\n",
        "1: you need to reach to a data frame where the release year is the index and the genre is the column names (one cell shows the number of release in a year in one genre) or vice versa.\n",
        "Once that is achieved, you can either use multiple bivariate plots or can use the heatmap to visualise all the changes over the years in one go. \n",
        "\n",
        "Hint 2: Use groupby on the relevant column and use sum() on the same to find out the nuumber of releases in a year/genre.  "
      ]
    },
    {
      "cell_type": "code",
      "metadata": {
        "id": "YGsywmn_h_E6",
        "colab_type": "code",
        "colab": {
          "base_uri": "https://localhost:8080/",
          "height": 285
        },
        "outputId": "8814d314-35d4-4e41-b465-ae615aefb1ac"
      },
      "source": [
        "movieInfo_df['year']\n",
        "\n",
        "moviepopularity_by_year_df = movieInfo_df.groupby(['year'])[columns_to_sum].sum()\n",
        "\n",
        "moviepopularity_by_year_df.tail()\n",
        "\n",
        "sns.barplot(moviepopularity_by_year_df.index, moviepopularity_by_year_df['Action'].values)"
      ],
      "execution_count": null,
      "outputs": [
        {
          "output_type": "display_data",
          "data": {
            "image/png": "[encoded data removed]",
            "text/plain": [
              "<Figure size 432x288 with 1 Axes>"
            ]
          },
          "metadata": {
            "tags": [],
            "needs_background": "light"
          }
        }
      ]
    },
    {
      "cell_type": "code",
      "metadata": {
        "id": "vQh7iYEB79ww",
        "colab_type": "code",
        "colab": {
          "base_uri": "https://localhost:8080/",
          "height": 304
        },
        "outputId": "dccb3687-0690-49e7-ed94-f5dc92a996d9"
      },
      "source": [
        "## Change in the popularity of Adventure Movies by year\n",
        "\n",
        "sns.barplot(moviepopularity_by_year_df.index, moviepopularity_by_year_df['Adventure'].values)"
      ],
      "execution_count": null,
      "outputs": [
        {
          "output_type": "execute_result",
          "data": {
            "text/plain": [
              "<matplotlib.axes._subplots.AxesSubplot at 0x7f69532bc9b0>"
            ]
          },
          "metadata": {
            "tags": []
          },
          "execution_count": 67
        },
        {
          "output_type": "display_data",
          "data": {
            "image/png": "[encoded data removed]",
            "text/plain": [
              "<Figure size 432x288 with 1 Axes>"
            ]
          },
          "metadata": {
            "tags": [],
            "needs_background": "light"
          }
        }
      ]
    },
    {
      "cell_type": "code",
      "metadata": {
        "id": "QX5nfgo589l3",
        "colab_type": "code",
        "colab": {}
      },
      "source": [
        "sns.barplot(moviepopularity_by_year_df.index, moviepopularity_by_year_df['Animation'].values)"
      ],
      "execution_count": null,
      "outputs": []
    },
    {
      "cell_type": "code",
      "metadata": {
        "id": "rt1twLYX8-Tm",
        "colab_type": "code",
        "colab": {}
      },
      "source": [
        "sns.barplot(moviepopularity_by_year_df.index, moviepopularity_by_year_df['Childrens'].values)"
      ],
      "execution_count": null,
      "outputs": []
    },
    {
      "cell_type": "code",
      "metadata": {
        "id": "Up9GtM_WBD7k",
        "colab_type": "code",
        "colab": {}
      },
      "source": [
        "sns.barplot(moviepopularity_by_year_df.index, moviepopularity_by_year_df['Comedy'].values)"
      ],
      "execution_count": null,
      "outputs": []
    },
    {
      "cell_type": "code",
      "metadata": {
        "id": "smrn_6_J8-5W",
        "colab_type": "code",
        "colab": {}
      },
      "source": [
        "sns.barplot(moviepopularity_by_year_df.index, moviepopularity_by_year_df['Crime'].values)"
      ],
      "execution_count": null,
      "outputs": []
    },
    {
      "cell_type": "code",
      "metadata": {
        "id": "wfcu_4JU8_yp",
        "colab_type": "code",
        "colab": {}
      },
      "source": [
        "sns.barplot(moviepopularity_by_year_df.index, moviepopularity_by_year_df['Documentary'].values)"
      ],
      "execution_count": null,
      "outputs": []
    },
    {
      "cell_type": "code",
      "metadata": {
        "id": "VG6fqtwd9Ban",
        "colab_type": "code",
        "colab": {}
      },
      "source": [
        "sns.barplot(moviepopularity_by_year_df.index, moviepopularity_by_year_df['Drama'].values) "
      ],
      "execution_count": null,
      "outputs": []
    },
    {
      "cell_type": "code",
      "metadata": {
        "id": "yRDytUXi9ZaD",
        "colab_type": "code",
        "colab": {}
      },
      "source": [
        "sns.barplot(moviepopularity_by_year_df.index, moviepopularity_by_year_df['Fantasy'].values) "
      ],
      "execution_count": null,
      "outputs": []
    },
    {
      "cell_type": "code",
      "metadata": {
        "id": "VF9HM1f19aCt",
        "colab_type": "code",
        "colab": {}
      },
      "source": [
        "sns.barplot(moviepopularity_by_year_df.index, moviepopularity_by_year_df['Film-Noir'].values) "
      ],
      "execution_count": null,
      "outputs": []
    },
    {
      "cell_type": "code",
      "metadata": {
        "id": "2ChKPbTM9iMQ",
        "colab_type": "code",
        "colab": {}
      },
      "source": [
        "sns.barplot(moviepopularity_by_year_df.index, moviepopularity_by_year_df['Horror'].values) "
      ],
      "execution_count": null,
      "outputs": []
    },
    {
      "cell_type": "code",
      "metadata": {
        "id": "w4QsXCQ09jcs",
        "colab_type": "code",
        "colab": {}
      },
      "source": [
        "sns.barplot(moviepopularity_by_year_df.index, moviepopularity_by_year_df['Musical'].values) "
      ],
      "execution_count": null,
      "outputs": []
    },
    {
      "cell_type": "code",
      "metadata": {
        "id": "oPdyzIhi9rup",
        "colab_type": "code",
        "colab": {}
      },
      "source": [
        "sns.barplot(moviepopularity_by_year_df.index, moviepopularity_by_year_df['Mystery'].values) "
      ],
      "execution_count": null,
      "outputs": []
    },
    {
      "cell_type": "code",
      "metadata": {
        "id": "vw37PaX-9rsM",
        "colab_type": "code",
        "colab": {}
      },
      "source": [
        "sns.barplot(moviepopularity_by_year_df.index, moviepopularity_by_year_df['Romance'].values) "
      ],
      "execution_count": null,
      "outputs": []
    },
    {
      "cell_type": "code",
      "metadata": {
        "id": "b3cSR9te9rmi",
        "colab_type": "code",
        "colab": {}
      },
      "source": [
        "sns.barplot(moviepopularity_by_year_df.index, moviepopularity_by_year_df['Sci-Fi'].values) "
      ],
      "execution_count": null,
      "outputs": []
    },
    {
      "cell_type": "code",
      "metadata": {
        "id": "cutFcUC_9rgj",
        "colab_type": "code",
        "colab": {}
      },
      "source": [
        "sns.barplot(moviepopularity_by_year_df.index, moviepopularity_by_year_df['Thriller'].values) "
      ],
      "execution_count": null,
      "outputs": []
    },
    {
      "cell_type": "code",
      "metadata": {
        "id": "bgh4EYCf9rcU",
        "colab_type": "code",
        "colab": {}
      },
      "source": [
        "sns.barplot(moviepopularity_by_year_df.index, moviepopularity_by_year_df['War'].values) "
      ],
      "execution_count": null,
      "outputs": []
    },
    {
      "cell_type": "code",
      "metadata": {
        "id": "7Y95kFli9rRY",
        "colab_type": "code",
        "colab": {
          "base_uri": "https://localhost:8080/",
          "height": 302
        },
        "outputId": "1a089ffe-dd82-4cee-d71c-0922a7adbf0d"
      },
      "source": [
        "sns.barplot(moviepopularity_by_year_df.index, moviepopularity_by_year_df['Western'].values) "
      ],
      "execution_count": null,
      "outputs": [
        {
          "output_type": "execute_result",
          "data": {
            "text/plain": [
              "<matplotlib.axes._subplots.AxesSubplot at 0x7f695332c320>"
            ]
          },
          "metadata": {
            "tags": []
          },
          "execution_count": 68
        },
        {
          "output_type": "display_data",
          "data": {
            "image/png": "[encoded data removed]",
            "text/plain": [
              "<Figure size 432x288 with 1 Axes>"
            ]
          },
          "metadata": {
            "tags": [],
            "needs_background": "light"
          }
        }
      ]
    },
    {
      "cell_type": "markdown",
      "metadata": {
        "id": "wqLR6dt2h_E9",
        "colab_type": "text"
      },
      "source": [
        "### 9. Find the top 25 movies according to average ratings such that each movie has number of ratings more than 100 - 10 marks\n",
        "\n",
        "Hint : \n",
        "\n",
        "1. First find the movies that have more than 100 ratings(use merge, groupby and count). Extract the movie id in a list.\n",
        "2. Find the average rating of all the movies and sort them in the descending order. You will have to use the .merge() function to reach to a data set through which you can get the ids and the average rating.\n",
        "3. Use isin(list obtained from 1) to filter out the movies which have more than 100 ratings.\n",
        "\n",
        "Note: This question will need you to research about groupby and apply your findings. You can find more on groupby on https://realpython.com/pandas-groupby/."
      ]
    },
    {
      "cell_type": "code",
      "metadata": {
        "id": "NjEW2h7Bh_E_",
        "colab_type": "code",
        "colab": {}
      },
      "source": [
        "#your answer here"
      ],
      "execution_count": null,
      "outputs": []
    },
    {
      "cell_type": "code",
      "metadata": {
        "id": "CPeGsGT6TtlP",
        "colab_type": "code",
        "colab": {
          "base_uri": "https://localhost:8080/",
          "height": 442
        },
        "outputId": "7133f64b-4531-4fcd-868c-571c23122648"
      },
      "source": [
        "movieRating_Avg = movieRating_df.groupby(['movie id'])['rating'].agg(['mean', 'count'])\n",
        "\n",
        "movieRating_Avg = movieRating_Avg[movieRating_Avg['count'] > 100]\n",
        "\n",
        "movies_with_100plus_ratings = pd.merge(movieRating_Avg,movieInfo_df, how='left',on='movie id')\n",
        "\n",
        "movies_with_100plus_ratings = movies_with_100plus_ratings[['movie id','mean','movie title','release date']]\n",
        "\n",
        "movies_with_100plus_ratings = movies_with_100plus_ratings.rename(columns={'mean': 'average rating'})\n",
        "\n",
        "movies_with_100plus_ratings.sort_values(ascending=False, by='average rating',inplace=True)\n",
        "\n",
        "top_25_movies_with_100plus_rating = movies_with_100plus_ratings.iloc[0:24]\n",
        "\n",
        "print(top_25_movies_with_100plus_rating[['movie title','release date']])"
      ],
      "execution_count": null,
      "outputs": [
        {
          "output_type": "stream",
          "text": [
            "                                           movie title release date\n",
            "231                                    Close Shave, A   28-Apr-1996\n",
            "202                                  Schindler's List   01-Jan-1993\n",
            "91                                Wrong Trousers, The   01-Jan-1993\n",
            "261                                        Casablanca   01-Jan-1942\n",
            "29                          Shawshank Redemption, The   01-Jan-1994\n",
            "292                                       Rear Window   01-Jan-1954\n",
            "7                                 Usual Suspects, The   14-Aug-1995\n",
            "22                                          Star Wars   01-Jan-1977\n",
            "99                                       12 Angry Men   01-Jan-1957\n",
            "72                                       Citizen Kane   01-Jan-1941\n",
            "238                             To Kill a Mockingbird   01-Jan-1962\n",
            "219                   One Flew Over the Cuckoo's Nest   01-Jan-1975\n",
            "55                          Silence of the Lambs, The   01-Jan-1991\n",
            "259                                North by Northwest   01-Jan-1959\n",
            "68                                     Godfather, The   01-Jan-1972\n",
            "182                                    Secrets & Lies   04-Oct-1996\n",
            "173                                 Good Will Hunting   01-Jan-1997\n",
            "298                         Manchurian Candidate, The   01-Jan-1962\n",
            "254  Dr. Strangelove or: How I Learned to Stop Worr...  01-Jan-1963\n",
            "95                            Raiders of the Lost Ark   01-Jan-1981\n",
            "258                                           Vertigo   01-Jan-1958\n",
            "198                                           Titanic   01-Jan-1997\n",
            "271                                Lawrence of Arabia   01-Jan-1962\n",
            "262                               Maltese Falcon, The   01-Jan-1941\n"
          ],
          "name": "stdout"
        }
      ]
    },
    {
      "cell_type": "markdown",
      "metadata": {
        "id": "xOd4gviQh_FE",
        "colab_type": "text"
      },
      "source": [
        "### 10. See gender distribution across different genres check for the validity of the below statements - 10 marks\n",
        "\n",
        "* Men watch more drama than women\n",
        "* Women watch more Sci-Fi than men\n",
        "* Men watch more Romance than women\n"
      ]
    },
    {
      "cell_type": "markdown",
      "metadata": {
        "id": "aDqMLJdwh_FF",
        "colab_type": "text"
      },
      "source": [
        "1. There is no need to conduct statistical tests around this. Just compare the percentages and comment on the validity of the above statements.\n",
        "\n",
        "2. you might want ot use the .sum(), .div() function here.\n",
        "3. Use number of ratings to validate the numbers. For example, if out of 4000 ratings received by women, 3000 are for drama, we will assume that 75% of the women watch drama."
      ]
    },
    {
      "cell_type": "code",
      "metadata": {
        "id": "OhYfQV6QtKNF",
        "colab_type": "code",
        "colab": {}
      },
      "source": [
        "drama_movie = movieInfo_df[movieInfo_df['Drama'] == 1][['movie id']]\n",
        "scifi_movie = movieInfo_df[movieInfo_df['Sci-Fi'] == 1][['movie id']]\n",
        "romantic_movie = movieInfo_df[movieInfo_df['Romance'] == 1][['movie id']]\n",
        "\n"
      ],
      "execution_count": null,
      "outputs": []
    },
    {
      "cell_type": "code",
      "metadata": {
        "id": "AYdwp7kfMrAi",
        "colab_type": "code",
        "colab": {
          "base_uri": "https://localhost:8080/",
          "height": 51
        },
        "outputId": "053eff3c-dca3-43d5-c642-b922425a2602"
      },
      "source": [
        "totalWomenMovieRater = movieRaters_df[movieRaters_df['gender'] == 'F']['user id']\n",
        "totalMenMovieRater = movieRaters_df[movieRaters_df['gender'] == 'M']['user id']\n",
        "\n",
        "totalMoviesRatedByWomen = pd.merge(totalWomenMovieRater, movieRating_df, how='inner', on='user id')\n",
        "totalMoviesRatedByMen = pd.merge(totalMenMovieRater, movieRating_df, how='inner', on='user id')\n",
        "\n",
        "drama_movies_rated_by_women = pd.merge(totalMoviesRatedByWomen, drama_movie, how='inner', on='movie id')\n",
        "drama_movies_rated_by_men = pd.merge(totalMoviesRatedByMen, drama_movie, how='inner', on='movie id')\n",
        "\n",
        "percentage_drama_movies_rated_by_women = (drama_movies_rated_by_women.count().rating/totalMoviesRatedByWomen.count().rating) * 100\n",
        "percentage_drama_movies_rated_by_men = (drama_movies_rated_by_men.count().rating/totalMoviesRatedByMen.count().rating) * 100\n",
        "\n",
        "print('Percentage of drama movies rated by women', percentage_drama_movies_rated_by_women)\n",
        "print('Percentage of drama movies rated by men', percentage_drama_movies_rated_by_men)\n",
        "\n"
      ],
      "execution_count": null,
      "outputs": [
        {
          "output_type": "stream",
          "text": [
            "Percentage of drama movies rated by women 42.76612276612276\n",
            "Percentage of drama movies rated by men 38.89981147320226\n"
          ],
          "name": "stdout"
        }
      ]
    },
    {
      "cell_type": "code",
      "metadata": {
        "id": "xycwBiaeU25r",
        "colab_type": "code",
        "colab": {
          "base_uri": "https://localhost:8080/",
          "height": 51
        },
        "outputId": "a5016a28-ea86-4aac-9699-3354aad126fa"
      },
      "source": [
        "scifi_movie_rated_by_women = pd.merge(totalMoviesRatedByWomen, scifi_movie, how='inner', on='movie id')\n",
        "scifi_movie_rated_by_men = pd.merge(totalMoviesRatedByMen, scifi_movie, how='inner', on='movie id')\n",
        "\n",
        "percentage_scifi_movie_rated_by_women = (scifi_movie_rated_by_women.count().rating/totalMoviesRatedByWomen.count().rating) * 100\n",
        "percentage_scifi_movie_rated_by_men = (scifi_movie_rated_by_men.count().rating/totalMoviesRatedByMen.count().rating) * 100\n",
        "\n",
        "print('Percentage of sci-fi movies rated by women', percentage_scifi_movie_rated_by_women)\n",
        "print('Percentage of sci-fi movies rated by men', percentage_scifi_movie_rated_by_men)"
      ],
      "execution_count": null,
      "outputs": [
        {
          "output_type": "stream",
          "text": [
            "Percentage of sci-fi movies rated by women 10.213675213675213\n",
            "Percentage of sci-fi movies rated by men 13.602208456773498\n"
          ],
          "name": "stdout"
        }
      ]
    },
    {
      "cell_type": "code",
      "metadata": {
        "id": "Qbq33fk0WSNy",
        "colab_type": "code",
        "colab": {
          "base_uri": "https://localhost:8080/",
          "height": 51
        },
        "outputId": "30d3d153-f242-4d9b-a83f-d7f07f853015"
      },
      "source": [
        "romantic_movie_rated_by_women = pd.merge(totalMoviesRatedByWomen, romantic_movie, how='inner', on='movie id')\n",
        "romantic_movie_rated_by_men = pd.merge(totalMoviesRatedByMen, romantic_movie, how='inner', on='movie id')\n",
        "\n",
        "percentage_romantic_movie_rated_by_women = (romantic_movie_rated_by_women.count().rating/totalMoviesRatedByWomen.count().rating) * 100\n",
        "percentage_romantic_movie_rated_by_men = (romantic_movie_rated_by_men.count().rating/totalMoviesRatedByMen.count().rating) * 100\n",
        "\n",
        "print('Percentage of romantic movies rated by women', percentage_romantic_movie_rated_by_women)\n",
        "print('Percentage of romantic movies rated by men', percentage_romantic_movie_rated_by_men)"
      ],
      "execution_count": null,
      "outputs": [
        {
          "output_type": "stream",
          "text": [
            "Percentage of romantic movies rated by women 22.75835275835276\n",
            "Percentage of romantic movies rated by men 18.31807164018314\n"
          ],
          "name": "stdout"
        }
      ]
    },
    {
      "cell_type": "markdown",
      "metadata": {
        "id": "rfhM-Jgch_FH",
        "colab_type": "text"
      },
      "source": [
        "#### Conclusion:\n",
        "\n"
      ]
    },
    {
      "cell_type": "code",
      "metadata": {
        "id": "BlNtWrhph_FJ",
        "colab_type": "code",
        "colab": {}
      },
      "source": [
        "#Men watch more drama than women  - False\n",
        "#Women watch more Sci-Fi than men - False\n",
        "#Men watch more Romance than women - True"
      ],
      "execution_count": null,
      "outputs": []
    },
    {
      "cell_type": "markdown",
      "metadata": {
        "id": "3UTC7cQlCUJ5",
        "colab_type": "text"
      },
      "source": [
        ""
      ]
    }
  ]
}